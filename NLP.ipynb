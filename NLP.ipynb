{
 "cells": [
  {
   "cell_type": "code",
   "execution_count": 35,
   "metadata": {
    "id": "JqOqxt9bS8R6"
   },
   "outputs": [],
   "source": [
    "import pandas as pd\n",
    "import numpy as np\n",
    "import matplotlib.pyplot as plt\n",
    "import seaborn as sns\n"
   ]
  },
  {
   "cell_type": "code",
   "execution_count": 36,
   "metadata": {
    "id": "83vkZVv9TNPd"
   },
   "outputs": [],
   "source": [
    "df = pd.read_csv(\"/content/sample_data/oneplusTV_extraction_reviews.csv\")"
   ]
  },
  {
   "cell_type": "code",
   "execution_count": 37,
   "metadata": {
    "colab": {
     "base_uri": "https://localhost:8080/",
     "height": 423
    },
    "id": "nitwlSNfwhDf",
    "outputId": "8262dbdf-9a80-43d0-abf4-a08fa57edb32"
   },
   "outputs": [
    {
     "data": {
      "text/html": [
       "\n",
       "  <div id=\"df-4891c439-fe3c-4265-8f38-f9a72d163777\">\n",
       "    <div class=\"colab-df-container\">\n",
       "      <div>\n",
       "<style scoped>\n",
       "    .dataframe tbody tr th:only-of-type {\n",
       "        vertical-align: middle;\n",
       "    }\n",
       "\n",
       "    .dataframe tbody tr th {\n",
       "        vertical-align: top;\n",
       "    }\n",
       "\n",
       "    .dataframe thead th {\n",
       "        text-align: right;\n",
       "    }\n",
       "</style>\n",
       "<table border=\"1\" class=\"dataframe\">\n",
       "  <thead>\n",
       "    <tr style=\"text-align: right;\">\n",
       "      <th></th>\n",
       "      <th>Unnamed: 0</th>\n",
       "      <th>product</th>\n",
       "      <th>title</th>\n",
       "      <th>rating</th>\n",
       "      <th>body</th>\n",
       "    </tr>\n",
       "  </thead>\n",
       "  <tbody>\n",
       "    <tr>\n",
       "      <th>0</th>\n",
       "      <td>0</td>\n",
       "      <td>OnePlus 108 cm (43 inches) Y Series Full HD LE...</td>\n",
       "      <td>Replacement received from Amazon and it's work...</td>\n",
       "      <td>4.0</td>\n",
       "      <td>The media could not be loaded.\\n              ...</td>\n",
       "    </tr>\n",
       "    <tr>\n",
       "      <th>1</th>\n",
       "      <td>1</td>\n",
       "      <td>OnePlus 108 cm (43 inches) Y Series Full HD LE...</td>\n",
       "      <td>Cinematic picture quality with low quality sou...</td>\n",
       "      <td>4.0</td>\n",
       "      <td>TV is beautiful with minute bezels.I was pleas...</td>\n",
       "    </tr>\n",
       "    <tr>\n",
       "      <th>2</th>\n",
       "      <td>2</td>\n",
       "      <td>OnePlus 108 cm (43 inches) Y Series Full HD LE...</td>\n",
       "      <td>Y DIS Y series?</td>\n",
       "      <td>1.0</td>\n",
       "      <td>ere is my experience with the Oneplus LAGGY tv...</td>\n",
       "    </tr>\n",
       "    <tr>\n",
       "      <th>3</th>\n",
       "      <td>3</td>\n",
       "      <td>OnePlus 108 cm (43 inches) Y Series Full HD LE...</td>\n",
       "      <td>Contrast Ratio, Viewing Angle, Colours, All Good.</td>\n",
       "      <td>5.0</td>\n",
       "      <td>I will be brief here.Unboxing:No wall Mount.No...</td>\n",
       "    </tr>\n",
       "    <tr>\n",
       "      <th>4</th>\n",
       "      <td>4</td>\n",
       "      <td>OnePlus 108 cm (43 inches) Y Series Full HD LE...</td>\n",
       "      <td>Best Budget TV</td>\n",
       "      <td>5.0</td>\n",
       "      <td>After 10 days usage :1. Display is good not be...</td>\n",
       "    </tr>\n",
       "    <tr>\n",
       "      <th>...</th>\n",
       "      <td>...</td>\n",
       "      <td>...</td>\n",
       "      <td>...</td>\n",
       "      <td>...</td>\n",
       "      <td>...</td>\n",
       "    </tr>\n",
       "    <tr>\n",
       "      <th>5785</th>\n",
       "      <td>5785</td>\n",
       "      <td>OnePlus 108 cm (43 inches) Y Series Full HD LE...</td>\n",
       "      <td>Awesome</td>\n",
       "      <td>5.0</td>\n",
       "      <td>Excellent</td>\n",
       "    </tr>\n",
       "    <tr>\n",
       "      <th>5786</th>\n",
       "      <td>5786</td>\n",
       "      <td>OnePlus 108 cm (43 inches) Y Series Full HD LE...</td>\n",
       "      <td>Worth every penny</td>\n",
       "      <td>5.0</td>\n",
       "      <td>All good</td>\n",
       "    </tr>\n",
       "    <tr>\n",
       "      <th>5787</th>\n",
       "      <td>5787</td>\n",
       "      <td>OnePlus 108 cm (43 inches) Y Series Full HD LE...</td>\n",
       "      <td>Awesome</td>\n",
       "      <td>5.0</td>\n",
       "      <td>Very good</td>\n",
       "    </tr>\n",
       "    <tr>\n",
       "      <th>5788</th>\n",
       "      <td>5788</td>\n",
       "      <td>OnePlus 108 cm (43 inches) Y Series Full HD LE...</td>\n",
       "      <td>Quality</td>\n",
       "      <td>4.0</td>\n",
       "      <td>Only the besals are not good</td>\n",
       "    </tr>\n",
       "    <tr>\n",
       "      <th>5789</th>\n",
       "      <td>5789</td>\n",
       "      <td>OnePlus 108 cm (43 inches) Y Series Full HD LE...</td>\n",
       "      <td>Not so good</td>\n",
       "      <td>1.0</td>\n",
       "      <td>Very low visual and sound....cheap quality</td>\n",
       "    </tr>\n",
       "  </tbody>\n",
       "</table>\n",
       "<p>5790 rows × 5 columns</p>\n",
       "</div>\n",
       "      <button class=\"colab-df-convert\" onclick=\"convertToInteractive('df-4891c439-fe3c-4265-8f38-f9a72d163777')\"\n",
       "              title=\"Convert this dataframe to an interactive table.\"\n",
       "              style=\"display:none;\">\n",
       "        \n",
       "  <svg xmlns=\"http://www.w3.org/2000/svg\" height=\"24px\"viewBox=\"0 0 24 24\"\n",
       "       width=\"24px\">\n",
       "    <path d=\"M0 0h24v24H0V0z\" fill=\"none\"/>\n",
       "    <path d=\"M18.56 5.44l.94 2.06.94-2.06 2.06-.94-2.06-.94-.94-2.06-.94 2.06-2.06.94zm-11 1L8.5 8.5l.94-2.06 2.06-.94-2.06-.94L8.5 2.5l-.94 2.06-2.06.94zm10 10l.94 2.06.94-2.06 2.06-.94-2.06-.94-.94-2.06-.94 2.06-2.06.94z\"/><path d=\"M17.41 7.96l-1.37-1.37c-.4-.4-.92-.59-1.43-.59-.52 0-1.04.2-1.43.59L10.3 9.45l-7.72 7.72c-.78.78-.78 2.05 0 2.83L4 21.41c.39.39.9.59 1.41.59.51 0 1.02-.2 1.41-.59l7.78-7.78 2.81-2.81c.8-.78.8-2.07 0-2.86zM5.41 20L4 18.59l7.72-7.72 1.47 1.35L5.41 20z\"/>\n",
       "  </svg>\n",
       "      </button>\n",
       "      \n",
       "  <style>\n",
       "    .colab-df-container {\n",
       "      display:flex;\n",
       "      flex-wrap:wrap;\n",
       "      gap: 12px;\n",
       "    }\n",
       "\n",
       "    .colab-df-convert {\n",
       "      background-color: #E8F0FE;\n",
       "      border: none;\n",
       "      border-radius: 50%;\n",
       "      cursor: pointer;\n",
       "      display: none;\n",
       "      fill: #1967D2;\n",
       "      height: 32px;\n",
       "      padding: 0 0 0 0;\n",
       "      width: 32px;\n",
       "    }\n",
       "\n",
       "    .colab-df-convert:hover {\n",
       "      background-color: #E2EBFA;\n",
       "      box-shadow: 0px 1px 2px rgba(60, 64, 67, 0.3), 0px 1px 3px 1px rgba(60, 64, 67, 0.15);\n",
       "      fill: #174EA6;\n",
       "    }\n",
       "\n",
       "    [theme=dark] .colab-df-convert {\n",
       "      background-color: #3B4455;\n",
       "      fill: #D2E3FC;\n",
       "    }\n",
       "\n",
       "    [theme=dark] .colab-df-convert:hover {\n",
       "      background-color: #434B5C;\n",
       "      box-shadow: 0px 1px 3px 1px rgba(0, 0, 0, 0.15);\n",
       "      filter: drop-shadow(0px 1px 2px rgba(0, 0, 0, 0.3));\n",
       "      fill: #FFFFFF;\n",
       "    }\n",
       "  </style>\n",
       "\n",
       "      <script>\n",
       "        const buttonEl =\n",
       "          document.querySelector('#df-4891c439-fe3c-4265-8f38-f9a72d163777 button.colab-df-convert');\n",
       "        buttonEl.style.display =\n",
       "          google.colab.kernel.accessAllowed ? 'block' : 'none';\n",
       "\n",
       "        async function convertToInteractive(key) {\n",
       "          const element = document.querySelector('#df-4891c439-fe3c-4265-8f38-f9a72d163777');\n",
       "          const dataTable =\n",
       "            await google.colab.kernel.invokeFunction('convertToInteractive',\n",
       "                                                     [key], {});\n",
       "          if (!dataTable) return;\n",
       "\n",
       "          const docLinkHtml = 'Like what you see? Visit the ' +\n",
       "            '<a target=\"_blank\" href=https://colab.research.google.com/notebooks/data_table.ipynb>data table notebook</a>'\n",
       "            + ' to learn more about interactive tables.';\n",
       "          element.innerHTML = '';\n",
       "          dataTable['output_type'] = 'display_data';\n",
       "          await google.colab.output.renderOutput(dataTable, element);\n",
       "          const docLink = document.createElement('div');\n",
       "          docLink.innerHTML = docLinkHtml;\n",
       "          element.appendChild(docLink);\n",
       "        }\n",
       "      </script>\n",
       "    </div>\n",
       "  </div>\n",
       "  "
      ],
      "text/plain": [
       "      Unnamed: 0  ...                                               body\n",
       "0              0  ...  The media could not be loaded.\\n              ...\n",
       "1              1  ...  TV is beautiful with minute bezels.I was pleas...\n",
       "2              2  ...  ere is my experience with the Oneplus LAGGY tv...\n",
       "3              3  ...  I will be brief here.Unboxing:No wall Mount.No...\n",
       "4              4  ...  After 10 days usage :1. Display is good not be...\n",
       "...          ...  ...                                                ...\n",
       "5785        5785  ...                                          Excellent\n",
       "5786        5786  ...                                           All good\n",
       "5787        5787  ...                                          Very good\n",
       "5788        5788  ...                       Only the besals are not good\n",
       "5789        5789  ...         Very low visual and sound....cheap quality\n",
       "\n",
       "[5790 rows x 5 columns]"
      ]
     },
     "execution_count": 37,
     "metadata": {},
     "output_type": "execute_result"
    }
   ],
   "source": [
    "df"
   ]
  },
  {
   "cell_type": "code",
   "execution_count": 38,
   "metadata": {
    "id": "x7YW_89awwj8"
   },
   "outputs": [],
   "source": [
    "df = df.iloc[:,1:]"
   ]
  },
  {
   "cell_type": "code",
   "execution_count": 39,
   "metadata": {
    "colab": {
     "base_uri": "https://localhost:8080/",
     "height": 423
    },
    "id": "UZ60mvRKxJA7",
    "outputId": "0f07bfcd-6810-4922-a8bd-44297ac46387"
   },
   "outputs": [
    {
     "data": {
      "text/html": [
       "\n",
       "  <div id=\"df-07cf6cc2-e26a-467d-9fd2-03139564080c\">\n",
       "    <div class=\"colab-df-container\">\n",
       "      <div>\n",
       "<style scoped>\n",
       "    .dataframe tbody tr th:only-of-type {\n",
       "        vertical-align: middle;\n",
       "    }\n",
       "\n",
       "    .dataframe tbody tr th {\n",
       "        vertical-align: top;\n",
       "    }\n",
       "\n",
       "    .dataframe thead th {\n",
       "        text-align: right;\n",
       "    }\n",
       "</style>\n",
       "<table border=\"1\" class=\"dataframe\">\n",
       "  <thead>\n",
       "    <tr style=\"text-align: right;\">\n",
       "      <th></th>\n",
       "      <th>product</th>\n",
       "      <th>title</th>\n",
       "      <th>rating</th>\n",
       "      <th>body</th>\n",
       "    </tr>\n",
       "  </thead>\n",
       "  <tbody>\n",
       "    <tr>\n",
       "      <th>0</th>\n",
       "      <td>OnePlus 108 cm (43 inches) Y Series Full HD LE...</td>\n",
       "      <td>Replacement received from Amazon and it's work...</td>\n",
       "      <td>4.0</td>\n",
       "      <td>The media could not be loaded.\\n              ...</td>\n",
       "    </tr>\n",
       "    <tr>\n",
       "      <th>1</th>\n",
       "      <td>OnePlus 108 cm (43 inches) Y Series Full HD LE...</td>\n",
       "      <td>Cinematic picture quality with low quality sou...</td>\n",
       "      <td>4.0</td>\n",
       "      <td>TV is beautiful with minute bezels.I was pleas...</td>\n",
       "    </tr>\n",
       "    <tr>\n",
       "      <th>2</th>\n",
       "      <td>OnePlus 108 cm (43 inches) Y Series Full HD LE...</td>\n",
       "      <td>Y DIS Y series?</td>\n",
       "      <td>1.0</td>\n",
       "      <td>ere is my experience with the Oneplus LAGGY tv...</td>\n",
       "    </tr>\n",
       "    <tr>\n",
       "      <th>3</th>\n",
       "      <td>OnePlus 108 cm (43 inches) Y Series Full HD LE...</td>\n",
       "      <td>Contrast Ratio, Viewing Angle, Colours, All Good.</td>\n",
       "      <td>5.0</td>\n",
       "      <td>I will be brief here.Unboxing:No wall Mount.No...</td>\n",
       "    </tr>\n",
       "    <tr>\n",
       "      <th>4</th>\n",
       "      <td>OnePlus 108 cm (43 inches) Y Series Full HD LE...</td>\n",
       "      <td>Best Budget TV</td>\n",
       "      <td>5.0</td>\n",
       "      <td>After 10 days usage :1. Display is good not be...</td>\n",
       "    </tr>\n",
       "    <tr>\n",
       "      <th>...</th>\n",
       "      <td>...</td>\n",
       "      <td>...</td>\n",
       "      <td>...</td>\n",
       "      <td>...</td>\n",
       "    </tr>\n",
       "    <tr>\n",
       "      <th>5785</th>\n",
       "      <td>OnePlus 108 cm (43 inches) Y Series Full HD LE...</td>\n",
       "      <td>Awesome</td>\n",
       "      <td>5.0</td>\n",
       "      <td>Excellent</td>\n",
       "    </tr>\n",
       "    <tr>\n",
       "      <th>5786</th>\n",
       "      <td>OnePlus 108 cm (43 inches) Y Series Full HD LE...</td>\n",
       "      <td>Worth every penny</td>\n",
       "      <td>5.0</td>\n",
       "      <td>All good</td>\n",
       "    </tr>\n",
       "    <tr>\n",
       "      <th>5787</th>\n",
       "      <td>OnePlus 108 cm (43 inches) Y Series Full HD LE...</td>\n",
       "      <td>Awesome</td>\n",
       "      <td>5.0</td>\n",
       "      <td>Very good</td>\n",
       "    </tr>\n",
       "    <tr>\n",
       "      <th>5788</th>\n",
       "      <td>OnePlus 108 cm (43 inches) Y Series Full HD LE...</td>\n",
       "      <td>Quality</td>\n",
       "      <td>4.0</td>\n",
       "      <td>Only the besals are not good</td>\n",
       "    </tr>\n",
       "    <tr>\n",
       "      <th>5789</th>\n",
       "      <td>OnePlus 108 cm (43 inches) Y Series Full HD LE...</td>\n",
       "      <td>Not so good</td>\n",
       "      <td>1.0</td>\n",
       "      <td>Very low visual and sound....cheap quality</td>\n",
       "    </tr>\n",
       "  </tbody>\n",
       "</table>\n",
       "<p>5790 rows × 4 columns</p>\n",
       "</div>\n",
       "      <button class=\"colab-df-convert\" onclick=\"convertToInteractive('df-07cf6cc2-e26a-467d-9fd2-03139564080c')\"\n",
       "              title=\"Convert this dataframe to an interactive table.\"\n",
       "              style=\"display:none;\">\n",
       "        \n",
       "  <svg xmlns=\"http://www.w3.org/2000/svg\" height=\"24px\"viewBox=\"0 0 24 24\"\n",
       "       width=\"24px\">\n",
       "    <path d=\"M0 0h24v24H0V0z\" fill=\"none\"/>\n",
       "    <path d=\"M18.56 5.44l.94 2.06.94-2.06 2.06-.94-2.06-.94-.94-2.06-.94 2.06-2.06.94zm-11 1L8.5 8.5l.94-2.06 2.06-.94-2.06-.94L8.5 2.5l-.94 2.06-2.06.94zm10 10l.94 2.06.94-2.06 2.06-.94-2.06-.94-.94-2.06-.94 2.06-2.06.94z\"/><path d=\"M17.41 7.96l-1.37-1.37c-.4-.4-.92-.59-1.43-.59-.52 0-1.04.2-1.43.59L10.3 9.45l-7.72 7.72c-.78.78-.78 2.05 0 2.83L4 21.41c.39.39.9.59 1.41.59.51 0 1.02-.2 1.41-.59l7.78-7.78 2.81-2.81c.8-.78.8-2.07 0-2.86zM5.41 20L4 18.59l7.72-7.72 1.47 1.35L5.41 20z\"/>\n",
       "  </svg>\n",
       "      </button>\n",
       "      \n",
       "  <style>\n",
       "    .colab-df-container {\n",
       "      display:flex;\n",
       "      flex-wrap:wrap;\n",
       "      gap: 12px;\n",
       "    }\n",
       "\n",
       "    .colab-df-convert {\n",
       "      background-color: #E8F0FE;\n",
       "      border: none;\n",
       "      border-radius: 50%;\n",
       "      cursor: pointer;\n",
       "      display: none;\n",
       "      fill: #1967D2;\n",
       "      height: 32px;\n",
       "      padding: 0 0 0 0;\n",
       "      width: 32px;\n",
       "    }\n",
       "\n",
       "    .colab-df-convert:hover {\n",
       "      background-color: #E2EBFA;\n",
       "      box-shadow: 0px 1px 2px rgba(60, 64, 67, 0.3), 0px 1px 3px 1px rgba(60, 64, 67, 0.15);\n",
       "      fill: #174EA6;\n",
       "    }\n",
       "\n",
       "    [theme=dark] .colab-df-convert {\n",
       "      background-color: #3B4455;\n",
       "      fill: #D2E3FC;\n",
       "    }\n",
       "\n",
       "    [theme=dark] .colab-df-convert:hover {\n",
       "      background-color: #434B5C;\n",
       "      box-shadow: 0px 1px 3px 1px rgba(0, 0, 0, 0.15);\n",
       "      filter: drop-shadow(0px 1px 2px rgba(0, 0, 0, 0.3));\n",
       "      fill: #FFFFFF;\n",
       "    }\n",
       "  </style>\n",
       "\n",
       "      <script>\n",
       "        const buttonEl =\n",
       "          document.querySelector('#df-07cf6cc2-e26a-467d-9fd2-03139564080c button.colab-df-convert');\n",
       "        buttonEl.style.display =\n",
       "          google.colab.kernel.accessAllowed ? 'block' : 'none';\n",
       "\n",
       "        async function convertToInteractive(key) {\n",
       "          const element = document.querySelector('#df-07cf6cc2-e26a-467d-9fd2-03139564080c');\n",
       "          const dataTable =\n",
       "            await google.colab.kernel.invokeFunction('convertToInteractive',\n",
       "                                                     [key], {});\n",
       "          if (!dataTable) return;\n",
       "\n",
       "          const docLinkHtml = 'Like what you see? Visit the ' +\n",
       "            '<a target=\"_blank\" href=https://colab.research.google.com/notebooks/data_table.ipynb>data table notebook</a>'\n",
       "            + ' to learn more about interactive tables.';\n",
       "          element.innerHTML = '';\n",
       "          dataTable['output_type'] = 'display_data';\n",
       "          await google.colab.output.renderOutput(dataTable, element);\n",
       "          const docLink = document.createElement('div');\n",
       "          docLink.innerHTML = docLinkHtml;\n",
       "          element.appendChild(docLink);\n",
       "        }\n",
       "      </script>\n",
       "    </div>\n",
       "  </div>\n",
       "  "
      ],
      "text/plain": [
       "                                                product  ...                                               body\n",
       "0     OnePlus 108 cm (43 inches) Y Series Full HD LE...  ...  The media could not be loaded.\\n              ...\n",
       "1     OnePlus 108 cm (43 inches) Y Series Full HD LE...  ...  TV is beautiful with minute bezels.I was pleas...\n",
       "2     OnePlus 108 cm (43 inches) Y Series Full HD LE...  ...  ere is my experience with the Oneplus LAGGY tv...\n",
       "3     OnePlus 108 cm (43 inches) Y Series Full HD LE...  ...  I will be brief here.Unboxing:No wall Mount.No...\n",
       "4     OnePlus 108 cm (43 inches) Y Series Full HD LE...  ...  After 10 days usage :1. Display is good not be...\n",
       "...                                                 ...  ...                                                ...\n",
       "5785  OnePlus 108 cm (43 inches) Y Series Full HD LE...  ...                                          Excellent\n",
       "5786  OnePlus 108 cm (43 inches) Y Series Full HD LE...  ...                                           All good\n",
       "5787  OnePlus 108 cm (43 inches) Y Series Full HD LE...  ...                                          Very good\n",
       "5788  OnePlus 108 cm (43 inches) Y Series Full HD LE...  ...                       Only the besals are not good\n",
       "5789  OnePlus 108 cm (43 inches) Y Series Full HD LE...  ...         Very low visual and sound....cheap quality\n",
       "\n",
       "[5790 rows x 4 columns]"
      ]
     },
     "execution_count": 39,
     "metadata": {},
     "output_type": "execute_result"
    }
   ],
   "source": [
    "df"
   ]
  },
  {
   "cell_type": "markdown",
   "metadata": {
    "id": "4UPA3EJrxslO"
   },
   "source": [
    "# text cleaning"
   ]
  },
  {
   "cell_type": "code",
   "execution_count": 40,
   "metadata": {
    "colab": {
     "base_uri": "https://localhost:8080/"
    },
    "id": "8K_uqbEPxoC1",
    "outputId": "b4fa0fad-3a34-4924-d569-a27134ea6fd8"
   },
   "outputs": [
    {
     "name": "stdout",
     "output_type": "stream",
     "text": [
      "[nltk_data] Downloading package punkt to /root/nltk_data...\n",
      "[nltk_data]   Package punkt is already up-to-date!\n",
      "[nltk_data] Downloading package stopwords to /root/nltk_data...\n",
      "[nltk_data]   Package stopwords is already up-to-date!\n",
      "[nltk_data] Downloading package wordnet to /root/nltk_data...\n",
      "[nltk_data]   Package wordnet is already up-to-date!\n"
     ]
    },
    {
     "data": {
      "text/plain": [
       "True"
      ]
     },
     "execution_count": 40,
     "metadata": {},
     "output_type": "execute_result"
    }
   ],
   "source": [
    "from nltk.tokenize import word_tokenize\n",
    "import nltk\n",
    "nltk.download('punkt')\n",
    "nltk.download('stopwords')\n",
    "nltk.download('wordnet')"
   ]
  },
  {
   "cell_type": "code",
   "execution_count": 41,
   "metadata": {
    "id": "H_3SZbv2zDPm"
   },
   "outputs": [],
   "source": [
    "df['body']= df['body'].astype(str)"
   ]
  },
  {
   "cell_type": "code",
   "execution_count": 42,
   "metadata": {
    "colab": {
     "base_uri": "https://localhost:8080/"
    },
    "id": "rdJw6X4NzOfv",
    "outputId": "9fb611d0-5977-48c6-c71b-8fd968509817"
   },
   "outputs": [
    {
     "name": "stdout",
     "output_type": "stream",
     "text": [
      "(5790, 4)\n",
      "product    0\n",
      "title      1\n",
      "rating     0\n",
      "body       0\n",
      "dtype: int64\n"
     ]
    }
   ],
   "source": [
    "print(df.shape)\n",
    "print(df.isnull().sum())"
   ]
  },
  {
   "cell_type": "code",
   "execution_count": 43,
   "metadata": {
    "colab": {
     "base_uri": "https://localhost:8080/",
     "height": 337
    },
    "id": "pF6c9GQs0Zaq",
    "outputId": "1bad6ad4-d3eb-4609-b6b2-1bc595164dbc"
   },
   "outputs": [
    {
     "data": {
      "text/html": [
       "\n",
       "  <div id=\"df-1d855c2a-66a1-4f37-9713-799bedb1a928\">\n",
       "    <div class=\"colab-df-container\">\n",
       "      <div>\n",
       "<style scoped>\n",
       "    .dataframe tbody tr th:only-of-type {\n",
       "        vertical-align: middle;\n",
       "    }\n",
       "\n",
       "    .dataframe tbody tr th {\n",
       "        vertical-align: top;\n",
       "    }\n",
       "\n",
       "    .dataframe thead th {\n",
       "        text-align: right;\n",
       "    }\n",
       "</style>\n",
       "<table border=\"1\" class=\"dataframe\">\n",
       "  <thead>\n",
       "    <tr style=\"text-align: right;\">\n",
       "      <th></th>\n",
       "      <th>product</th>\n",
       "      <th>title</th>\n",
       "      <th>rating</th>\n",
       "      <th>body</th>\n",
       "      <th>review_lower</th>\n",
       "    </tr>\n",
       "  </thead>\n",
       "  <tbody>\n",
       "    <tr>\n",
       "      <th>0</th>\n",
       "      <td>OnePlus 108 cm (43 inches) Y Series Full HD LE...</td>\n",
       "      <td>Replacement received from Amazon and it's work...</td>\n",
       "      <td>4.0</td>\n",
       "      <td>The media could not be loaded.\\n              ...</td>\n",
       "      <td>the media could not be loaded. never expected ...</td>\n",
       "    </tr>\n",
       "    <tr>\n",
       "      <th>1</th>\n",
       "      <td>OnePlus 108 cm (43 inches) Y Series Full HD LE...</td>\n",
       "      <td>Cinematic picture quality with low quality sou...</td>\n",
       "      <td>4.0</td>\n",
       "      <td>TV is beautiful with minute bezels.I was pleas...</td>\n",
       "      <td>tv is beautiful with minute bezels.i was pleas...</td>\n",
       "    </tr>\n",
       "    <tr>\n",
       "      <th>2</th>\n",
       "      <td>OnePlus 108 cm (43 inches) Y Series Full HD LE...</td>\n",
       "      <td>Y DIS Y series?</td>\n",
       "      <td>1.0</td>\n",
       "      <td>ere is my experience with the Oneplus LAGGY tv...</td>\n",
       "      <td>ere is my experience with the oneplus laggy tv...</td>\n",
       "    </tr>\n",
       "    <tr>\n",
       "      <th>3</th>\n",
       "      <td>OnePlus 108 cm (43 inches) Y Series Full HD LE...</td>\n",
       "      <td>Contrast Ratio, Viewing Angle, Colours, All Good.</td>\n",
       "      <td>5.0</td>\n",
       "      <td>I will be brief here.Unboxing:No wall Mount.No...</td>\n",
       "      <td>i will be brief here.unboxing:no wall mount.no...</td>\n",
       "    </tr>\n",
       "    <tr>\n",
       "      <th>4</th>\n",
       "      <td>OnePlus 108 cm (43 inches) Y Series Full HD LE...</td>\n",
       "      <td>Best Budget TV</td>\n",
       "      <td>5.0</td>\n",
       "      <td>After 10 days usage :1. Display is good not be...</td>\n",
       "      <td>after 10 days usage :1. display is good not be...</td>\n",
       "    </tr>\n",
       "  </tbody>\n",
       "</table>\n",
       "</div>\n",
       "      <button class=\"colab-df-convert\" onclick=\"convertToInteractive('df-1d855c2a-66a1-4f37-9713-799bedb1a928')\"\n",
       "              title=\"Convert this dataframe to an interactive table.\"\n",
       "              style=\"display:none;\">\n",
       "        \n",
       "  <svg xmlns=\"http://www.w3.org/2000/svg\" height=\"24px\"viewBox=\"0 0 24 24\"\n",
       "       width=\"24px\">\n",
       "    <path d=\"M0 0h24v24H0V0z\" fill=\"none\"/>\n",
       "    <path d=\"M18.56 5.44l.94 2.06.94-2.06 2.06-.94-2.06-.94-.94-2.06-.94 2.06-2.06.94zm-11 1L8.5 8.5l.94-2.06 2.06-.94-2.06-.94L8.5 2.5l-.94 2.06-2.06.94zm10 10l.94 2.06.94-2.06 2.06-.94-2.06-.94-.94-2.06-.94 2.06-2.06.94z\"/><path d=\"M17.41 7.96l-1.37-1.37c-.4-.4-.92-.59-1.43-.59-.52 0-1.04.2-1.43.59L10.3 9.45l-7.72 7.72c-.78.78-.78 2.05 0 2.83L4 21.41c.39.39.9.59 1.41.59.51 0 1.02-.2 1.41-.59l7.78-7.78 2.81-2.81c.8-.78.8-2.07 0-2.86zM5.41 20L4 18.59l7.72-7.72 1.47 1.35L5.41 20z\"/>\n",
       "  </svg>\n",
       "      </button>\n",
       "      \n",
       "  <style>\n",
       "    .colab-df-container {\n",
       "      display:flex;\n",
       "      flex-wrap:wrap;\n",
       "      gap: 12px;\n",
       "    }\n",
       "\n",
       "    .colab-df-convert {\n",
       "      background-color: #E8F0FE;\n",
       "      border: none;\n",
       "      border-radius: 50%;\n",
       "      cursor: pointer;\n",
       "      display: none;\n",
       "      fill: #1967D2;\n",
       "      height: 32px;\n",
       "      padding: 0 0 0 0;\n",
       "      width: 32px;\n",
       "    }\n",
       "\n",
       "    .colab-df-convert:hover {\n",
       "      background-color: #E2EBFA;\n",
       "      box-shadow: 0px 1px 2px rgba(60, 64, 67, 0.3), 0px 1px 3px 1px rgba(60, 64, 67, 0.15);\n",
       "      fill: #174EA6;\n",
       "    }\n",
       "\n",
       "    [theme=dark] .colab-df-convert {\n",
       "      background-color: #3B4455;\n",
       "      fill: #D2E3FC;\n",
       "    }\n",
       "\n",
       "    [theme=dark] .colab-df-convert:hover {\n",
       "      background-color: #434B5C;\n",
       "      box-shadow: 0px 1px 3px 1px rgba(0, 0, 0, 0.15);\n",
       "      filter: drop-shadow(0px 1px 2px rgba(0, 0, 0, 0.3));\n",
       "      fill: #FFFFFF;\n",
       "    }\n",
       "  </style>\n",
       "\n",
       "      <script>\n",
       "        const buttonEl =\n",
       "          document.querySelector('#df-1d855c2a-66a1-4f37-9713-799bedb1a928 button.colab-df-convert');\n",
       "        buttonEl.style.display =\n",
       "          google.colab.kernel.accessAllowed ? 'block' : 'none';\n",
       "\n",
       "        async function convertToInteractive(key) {\n",
       "          const element = document.querySelector('#df-1d855c2a-66a1-4f37-9713-799bedb1a928');\n",
       "          const dataTable =\n",
       "            await google.colab.kernel.invokeFunction('convertToInteractive',\n",
       "                                                     [key], {});\n",
       "          if (!dataTable) return;\n",
       "\n",
       "          const docLinkHtml = 'Like what you see? Visit the ' +\n",
       "            '<a target=\"_blank\" href=https://colab.research.google.com/notebooks/data_table.ipynb>data table notebook</a>'\n",
       "            + ' to learn more about interactive tables.';\n",
       "          element.innerHTML = '';\n",
       "          dataTable['output_type'] = 'display_data';\n",
       "          await google.colab.output.renderOutput(dataTable, element);\n",
       "          const docLink = document.createElement('div');\n",
       "          docLink.innerHTML = docLinkHtml;\n",
       "          element.appendChild(docLink);\n",
       "        }\n",
       "      </script>\n",
       "    </div>\n",
       "  </div>\n",
       "  "
      ],
      "text/plain": [
       "                                             product  ...                                       review_lower\n",
       "0  OnePlus 108 cm (43 inches) Y Series Full HD LE...  ...  the media could not be loaded. never expected ...\n",
       "1  OnePlus 108 cm (43 inches) Y Series Full HD LE...  ...  tv is beautiful with minute bezels.i was pleas...\n",
       "2  OnePlus 108 cm (43 inches) Y Series Full HD LE...  ...  ere is my experience with the oneplus laggy tv...\n",
       "3  OnePlus 108 cm (43 inches) Y Series Full HD LE...  ...  i will be brief here.unboxing:no wall mount.no...\n",
       "4  OnePlus 108 cm (43 inches) Y Series Full HD LE...  ...  after 10 days usage :1. display is good not be...\n",
       "\n",
       "[5 rows x 5 columns]"
      ]
     },
     "execution_count": 43,
     "metadata": {},
     "output_type": "execute_result"
    }
   ],
   "source": [
    "# Lower case all words\n",
    "df['review_lower'] = df['body'].apply(lambda x: \" \".join(x.lower() for x in x.split()))\n",
    "df.head()"
   ]
  },
  {
   "cell_type": "code",
   "execution_count": 44,
   "metadata": {
    "colab": {
     "base_uri": "https://localhost:8080/",
     "height": 371
    },
    "id": "vuFzqVa20i8l",
    "outputId": "ec893a4e-088a-4487-ac6b-f6dc02c663fe"
   },
   "outputs": [
    {
     "name": "stderr",
     "output_type": "stream",
     "text": [
      "/usr/local/lib/python3.7/dist-packages/ipykernel_launcher.py:2: FutureWarning: The default value of regex will change from True to False in a future version.\n",
      "  \n"
     ]
    },
    {
     "data": {
      "text/html": [
       "\n",
       "  <div id=\"df-ae34b23d-1475-414f-9bcd-804d72b1ba75\">\n",
       "    <div class=\"colab-df-container\">\n",
       "      <div>\n",
       "<style scoped>\n",
       "    .dataframe tbody tr th:only-of-type {\n",
       "        vertical-align: middle;\n",
       "    }\n",
       "\n",
       "    .dataframe tbody tr th {\n",
       "        vertical-align: top;\n",
       "    }\n",
       "\n",
       "    .dataframe thead th {\n",
       "        text-align: right;\n",
       "    }\n",
       "</style>\n",
       "<table border=\"1\" class=\"dataframe\">\n",
       "  <thead>\n",
       "    <tr style=\"text-align: right;\">\n",
       "      <th></th>\n",
       "      <th>product</th>\n",
       "      <th>title</th>\n",
       "      <th>rating</th>\n",
       "      <th>body</th>\n",
       "      <th>review_lower</th>\n",
       "      <th>review_nopunc</th>\n",
       "    </tr>\n",
       "  </thead>\n",
       "  <tbody>\n",
       "    <tr>\n",
       "      <th>0</th>\n",
       "      <td>OnePlus 108 cm (43 inches) Y Series Full HD LE...</td>\n",
       "      <td>Replacement received from Amazon and it's work...</td>\n",
       "      <td>4.0</td>\n",
       "      <td>The media could not be loaded.\\n              ...</td>\n",
       "      <td>the media could not be loaded. never expected ...</td>\n",
       "      <td>the media could not be loaded never expected t...</td>\n",
       "    </tr>\n",
       "    <tr>\n",
       "      <th>1</th>\n",
       "      <td>OnePlus 108 cm (43 inches) Y Series Full HD LE...</td>\n",
       "      <td>Cinematic picture quality with low quality sou...</td>\n",
       "      <td>4.0</td>\n",
       "      <td>TV is beautiful with minute bezels.I was pleas...</td>\n",
       "      <td>tv is beautiful with minute bezels.i was pleas...</td>\n",
       "      <td>tv is beautiful with minute bezelsi was please...</td>\n",
       "    </tr>\n",
       "    <tr>\n",
       "      <th>2</th>\n",
       "      <td>OnePlus 108 cm (43 inches) Y Series Full HD LE...</td>\n",
       "      <td>Y DIS Y series?</td>\n",
       "      <td>1.0</td>\n",
       "      <td>ere is my experience with the Oneplus LAGGY tv...</td>\n",
       "      <td>ere is my experience with the oneplus laggy tv...</td>\n",
       "      <td>ere is my experience with the oneplus laggy tv...</td>\n",
       "    </tr>\n",
       "    <tr>\n",
       "      <th>3</th>\n",
       "      <td>OnePlus 108 cm (43 inches) Y Series Full HD LE...</td>\n",
       "      <td>Contrast Ratio, Viewing Angle, Colours, All Good.</td>\n",
       "      <td>5.0</td>\n",
       "      <td>I will be brief here.Unboxing:No wall Mount.No...</td>\n",
       "      <td>i will be brief here.unboxing:no wall mount.no...</td>\n",
       "      <td>i will be brief hereunboxingno wall mountno di...</td>\n",
       "    </tr>\n",
       "    <tr>\n",
       "      <th>4</th>\n",
       "      <td>OnePlus 108 cm (43 inches) Y Series Full HD LE...</td>\n",
       "      <td>Best Budget TV</td>\n",
       "      <td>5.0</td>\n",
       "      <td>After 10 days usage :1. Display is good not be...</td>\n",
       "      <td>after 10 days usage :1. display is good not be...</td>\n",
       "      <td>after 10 days usage 1 display is good not best...</td>\n",
       "    </tr>\n",
       "  </tbody>\n",
       "</table>\n",
       "</div>\n",
       "      <button class=\"colab-df-convert\" onclick=\"convertToInteractive('df-ae34b23d-1475-414f-9bcd-804d72b1ba75')\"\n",
       "              title=\"Convert this dataframe to an interactive table.\"\n",
       "              style=\"display:none;\">\n",
       "        \n",
       "  <svg xmlns=\"http://www.w3.org/2000/svg\" height=\"24px\"viewBox=\"0 0 24 24\"\n",
       "       width=\"24px\">\n",
       "    <path d=\"M0 0h24v24H0V0z\" fill=\"none\"/>\n",
       "    <path d=\"M18.56 5.44l.94 2.06.94-2.06 2.06-.94-2.06-.94-.94-2.06-.94 2.06-2.06.94zm-11 1L8.5 8.5l.94-2.06 2.06-.94-2.06-.94L8.5 2.5l-.94 2.06-2.06.94zm10 10l.94 2.06.94-2.06 2.06-.94-2.06-.94-.94-2.06-.94 2.06-2.06.94z\"/><path d=\"M17.41 7.96l-1.37-1.37c-.4-.4-.92-.59-1.43-.59-.52 0-1.04.2-1.43.59L10.3 9.45l-7.72 7.72c-.78.78-.78 2.05 0 2.83L4 21.41c.39.39.9.59 1.41.59.51 0 1.02-.2 1.41-.59l7.78-7.78 2.81-2.81c.8-.78.8-2.07 0-2.86zM5.41 20L4 18.59l7.72-7.72 1.47 1.35L5.41 20z\"/>\n",
       "  </svg>\n",
       "      </button>\n",
       "      \n",
       "  <style>\n",
       "    .colab-df-container {\n",
       "      display:flex;\n",
       "      flex-wrap:wrap;\n",
       "      gap: 12px;\n",
       "    }\n",
       "\n",
       "    .colab-df-convert {\n",
       "      background-color: #E8F0FE;\n",
       "      border: none;\n",
       "      border-radius: 50%;\n",
       "      cursor: pointer;\n",
       "      display: none;\n",
       "      fill: #1967D2;\n",
       "      height: 32px;\n",
       "      padding: 0 0 0 0;\n",
       "      width: 32px;\n",
       "    }\n",
       "\n",
       "    .colab-df-convert:hover {\n",
       "      background-color: #E2EBFA;\n",
       "      box-shadow: 0px 1px 2px rgba(60, 64, 67, 0.3), 0px 1px 3px 1px rgba(60, 64, 67, 0.15);\n",
       "      fill: #174EA6;\n",
       "    }\n",
       "\n",
       "    [theme=dark] .colab-df-convert {\n",
       "      background-color: #3B4455;\n",
       "      fill: #D2E3FC;\n",
       "    }\n",
       "\n",
       "    [theme=dark] .colab-df-convert:hover {\n",
       "      background-color: #434B5C;\n",
       "      box-shadow: 0px 1px 3px 1px rgba(0, 0, 0, 0.15);\n",
       "      filter: drop-shadow(0px 1px 2px rgba(0, 0, 0, 0.3));\n",
       "      fill: #FFFFFF;\n",
       "    }\n",
       "  </style>\n",
       "\n",
       "      <script>\n",
       "        const buttonEl =\n",
       "          document.querySelector('#df-ae34b23d-1475-414f-9bcd-804d72b1ba75 button.colab-df-convert');\n",
       "        buttonEl.style.display =\n",
       "          google.colab.kernel.accessAllowed ? 'block' : 'none';\n",
       "\n",
       "        async function convertToInteractive(key) {\n",
       "          const element = document.querySelector('#df-ae34b23d-1475-414f-9bcd-804d72b1ba75');\n",
       "          const dataTable =\n",
       "            await google.colab.kernel.invokeFunction('convertToInteractive',\n",
       "                                                     [key], {});\n",
       "          if (!dataTable) return;\n",
       "\n",
       "          const docLinkHtml = 'Like what you see? Visit the ' +\n",
       "            '<a target=\"_blank\" href=https://colab.research.google.com/notebooks/data_table.ipynb>data table notebook</a>'\n",
       "            + ' to learn more about interactive tables.';\n",
       "          element.innerHTML = '';\n",
       "          dataTable['output_type'] = 'display_data';\n",
       "          await google.colab.output.renderOutput(dataTable, element);\n",
       "          const docLink = document.createElement('div');\n",
       "          docLink.innerHTML = docLinkHtml;\n",
       "          element.appendChild(docLink);\n",
       "        }\n",
       "      </script>\n",
       "    </div>\n",
       "  </div>\n",
       "  "
      ],
      "text/plain": [
       "                                             product  ...                                      review_nopunc\n",
       "0  OnePlus 108 cm (43 inches) Y Series Full HD LE...  ...  the media could not be loaded never expected t...\n",
       "1  OnePlus 108 cm (43 inches) Y Series Full HD LE...  ...  tv is beautiful with minute bezelsi was please...\n",
       "2  OnePlus 108 cm (43 inches) Y Series Full HD LE...  ...  ere is my experience with the oneplus laggy tv...\n",
       "3  OnePlus 108 cm (43 inches) Y Series Full HD LE...  ...  i will be brief hereunboxingno wall mountno di...\n",
       "4  OnePlus 108 cm (43 inches) Y Series Full HD LE...  ...  after 10 days usage 1 display is good not best...\n",
       "\n",
       "[5 rows x 6 columns]"
      ]
     },
     "execution_count": 44,
     "metadata": {},
     "output_type": "execute_result"
    }
   ],
   "source": [
    "# Remove Punctuation\n",
    "df['review_nopunc'] = df['review_lower'].str.replace('[^\\w\\s]', '')\n",
    "df.head()"
   ]
  },
  {
   "cell_type": "code",
   "execution_count": 45,
   "metadata": {
    "colab": {
     "base_uri": "https://localhost:8080/",
     "height": 423
    },
    "id": "-KbfxH-C0uxn",
    "outputId": "9bedfeb8-1d93-4783-91a2-800400ecf77e"
   },
   "outputs": [
    {
     "data": {
      "text/html": [
       "\n",
       "  <div id=\"df-b51b27dc-bb53-4bf1-8c6d-2a102445d172\">\n",
       "    <div class=\"colab-df-container\">\n",
       "      <div>\n",
       "<style scoped>\n",
       "    .dataframe tbody tr th:only-of-type {\n",
       "        vertical-align: middle;\n",
       "    }\n",
       "\n",
       "    .dataframe tbody tr th {\n",
       "        vertical-align: top;\n",
       "    }\n",
       "\n",
       "    .dataframe thead th {\n",
       "        text-align: right;\n",
       "    }\n",
       "</style>\n",
       "<table border=\"1\" class=\"dataframe\">\n",
       "  <thead>\n",
       "    <tr style=\"text-align: right;\">\n",
       "      <th></th>\n",
       "      <th>product</th>\n",
       "      <th>title</th>\n",
       "      <th>rating</th>\n",
       "      <th>body</th>\n",
       "      <th>review_lower</th>\n",
       "      <th>review_nopunc</th>\n",
       "      <th>review_nopunc_nostop</th>\n",
       "    </tr>\n",
       "  </thead>\n",
       "  <tbody>\n",
       "    <tr>\n",
       "      <th>0</th>\n",
       "      <td>OnePlus 108 cm (43 inches) Y Series Full HD LE...</td>\n",
       "      <td>Replacement received from Amazon and it's work...</td>\n",
       "      <td>4.0</td>\n",
       "      <td>The media could not be loaded.\\n              ...</td>\n",
       "      <td>the media could not be loaded. never expected ...</td>\n",
       "      <td>the media could not be loaded never expected t...</td>\n",
       "      <td>media could loaded never expected write negati...</td>\n",
       "    </tr>\n",
       "    <tr>\n",
       "      <th>1</th>\n",
       "      <td>OnePlus 108 cm (43 inches) Y Series Full HD LE...</td>\n",
       "      <td>Cinematic picture quality with low quality sou...</td>\n",
       "      <td>4.0</td>\n",
       "      <td>TV is beautiful with minute bezels.I was pleas...</td>\n",
       "      <td>tv is beautiful with minute bezels.i was pleas...</td>\n",
       "      <td>tv is beautiful with minute bezelsi was please...</td>\n",
       "      <td>tv beautiful minute bezelsi pleased picture qu...</td>\n",
       "    </tr>\n",
       "    <tr>\n",
       "      <th>2</th>\n",
       "      <td>OnePlus 108 cm (43 inches) Y Series Full HD LE...</td>\n",
       "      <td>Y DIS Y series?</td>\n",
       "      <td>1.0</td>\n",
       "      <td>ere is my experience with the Oneplus LAGGY tv...</td>\n",
       "      <td>ere is my experience with the oneplus laggy tv...</td>\n",
       "      <td>ere is my experience with the oneplus laggy tv...</td>\n",
       "      <td>ere experience oneplus laggy tv32y model list ...</td>\n",
       "    </tr>\n",
       "    <tr>\n",
       "      <th>3</th>\n",
       "      <td>OnePlus 108 cm (43 inches) Y Series Full HD LE...</td>\n",
       "      <td>Contrast Ratio, Viewing Angle, Colours, All Good.</td>\n",
       "      <td>5.0</td>\n",
       "      <td>I will be brief here.Unboxing:No wall Mount.No...</td>\n",
       "      <td>i will be brief here.unboxing:no wall mount.no...</td>\n",
       "      <td>i will be brief hereunboxingno wall mountno di...</td>\n",
       "      <td>brief hereunboxingno wall mountno display cabl...</td>\n",
       "    </tr>\n",
       "    <tr>\n",
       "      <th>4</th>\n",
       "      <td>OnePlus 108 cm (43 inches) Y Series Full HD LE...</td>\n",
       "      <td>Best Budget TV</td>\n",
       "      <td>5.0</td>\n",
       "      <td>After 10 days usage :1. Display is good not be...</td>\n",
       "      <td>after 10 days usage :1. display is good not be...</td>\n",
       "      <td>after 10 days usage 1 display is good not best...</td>\n",
       "      <td>10 days usage 1 display good best2 sound could...</td>\n",
       "    </tr>\n",
       "  </tbody>\n",
       "</table>\n",
       "</div>\n",
       "      <button class=\"colab-df-convert\" onclick=\"convertToInteractive('df-b51b27dc-bb53-4bf1-8c6d-2a102445d172')\"\n",
       "              title=\"Convert this dataframe to an interactive table.\"\n",
       "              style=\"display:none;\">\n",
       "        \n",
       "  <svg xmlns=\"http://www.w3.org/2000/svg\" height=\"24px\"viewBox=\"0 0 24 24\"\n",
       "       width=\"24px\">\n",
       "    <path d=\"M0 0h24v24H0V0z\" fill=\"none\"/>\n",
       "    <path d=\"M18.56 5.44l.94 2.06.94-2.06 2.06-.94-2.06-.94-.94-2.06-.94 2.06-2.06.94zm-11 1L8.5 8.5l.94-2.06 2.06-.94-2.06-.94L8.5 2.5l-.94 2.06-2.06.94zm10 10l.94 2.06.94-2.06 2.06-.94-2.06-.94-.94-2.06-.94 2.06-2.06.94z\"/><path d=\"M17.41 7.96l-1.37-1.37c-.4-.4-.92-.59-1.43-.59-.52 0-1.04.2-1.43.59L10.3 9.45l-7.72 7.72c-.78.78-.78 2.05 0 2.83L4 21.41c.39.39.9.59 1.41.59.51 0 1.02-.2 1.41-.59l7.78-7.78 2.81-2.81c.8-.78.8-2.07 0-2.86zM5.41 20L4 18.59l7.72-7.72 1.47 1.35L5.41 20z\"/>\n",
       "  </svg>\n",
       "      </button>\n",
       "      \n",
       "  <style>\n",
       "    .colab-df-container {\n",
       "      display:flex;\n",
       "      flex-wrap:wrap;\n",
       "      gap: 12px;\n",
       "    }\n",
       "\n",
       "    .colab-df-convert {\n",
       "      background-color: #E8F0FE;\n",
       "      border: none;\n",
       "      border-radius: 50%;\n",
       "      cursor: pointer;\n",
       "      display: none;\n",
       "      fill: #1967D2;\n",
       "      height: 32px;\n",
       "      padding: 0 0 0 0;\n",
       "      width: 32px;\n",
       "    }\n",
       "\n",
       "    .colab-df-convert:hover {\n",
       "      background-color: #E2EBFA;\n",
       "      box-shadow: 0px 1px 2px rgba(60, 64, 67, 0.3), 0px 1px 3px 1px rgba(60, 64, 67, 0.15);\n",
       "      fill: #174EA6;\n",
       "    }\n",
       "\n",
       "    [theme=dark] .colab-df-convert {\n",
       "      background-color: #3B4455;\n",
       "      fill: #D2E3FC;\n",
       "    }\n",
       "\n",
       "    [theme=dark] .colab-df-convert:hover {\n",
       "      background-color: #434B5C;\n",
       "      box-shadow: 0px 1px 3px 1px rgba(0, 0, 0, 0.15);\n",
       "      filter: drop-shadow(0px 1px 2px rgba(0, 0, 0, 0.3));\n",
       "      fill: #FFFFFF;\n",
       "    }\n",
       "  </style>\n",
       "\n",
       "      <script>\n",
       "        const buttonEl =\n",
       "          document.querySelector('#df-b51b27dc-bb53-4bf1-8c6d-2a102445d172 button.colab-df-convert');\n",
       "        buttonEl.style.display =\n",
       "          google.colab.kernel.accessAllowed ? 'block' : 'none';\n",
       "\n",
       "        async function convertToInteractive(key) {\n",
       "          const element = document.querySelector('#df-b51b27dc-bb53-4bf1-8c6d-2a102445d172');\n",
       "          const dataTable =\n",
       "            await google.colab.kernel.invokeFunction('convertToInteractive',\n",
       "                                                     [key], {});\n",
       "          if (!dataTable) return;\n",
       "\n",
       "          const docLinkHtml = 'Like what you see? Visit the ' +\n",
       "            '<a target=\"_blank\" href=https://colab.research.google.com/notebooks/data_table.ipynb>data table notebook</a>'\n",
       "            + ' to learn more about interactive tables.';\n",
       "          element.innerHTML = '';\n",
       "          dataTable['output_type'] = 'display_data';\n",
       "          await google.colab.output.renderOutput(dataTable, element);\n",
       "          const docLink = document.createElement('div');\n",
       "          docLink.innerHTML = docLinkHtml;\n",
       "          element.appendChild(docLink);\n",
       "        }\n",
       "      </script>\n",
       "    </div>\n",
       "  </div>\n",
       "  "
      ],
      "text/plain": [
       "                                             product  ...                               review_nopunc_nostop\n",
       "0  OnePlus 108 cm (43 inches) Y Series Full HD LE...  ...  media could loaded never expected write negati...\n",
       "1  OnePlus 108 cm (43 inches) Y Series Full HD LE...  ...  tv beautiful minute bezelsi pleased picture qu...\n",
       "2  OnePlus 108 cm (43 inches) Y Series Full HD LE...  ...  ere experience oneplus laggy tv32y model list ...\n",
       "3  OnePlus 108 cm (43 inches) Y Series Full HD LE...  ...  brief hereunboxingno wall mountno display cabl...\n",
       "4  OnePlus 108 cm (43 inches) Y Series Full HD LE...  ...  10 days usage 1 display good best2 sound could...\n",
       "\n",
       "[5 rows x 7 columns]"
      ]
     },
     "execution_count": 45,
     "metadata": {},
     "output_type": "execute_result"
    }
   ],
   "source": [
    "from nltk.corpus import stopwords\n",
    "stop_words = stopwords.words('english')\n",
    "\n",
    "# Remove Stopwords\n",
    "df['review_nopunc_nostop'] = df['review_nopunc'].apply(lambda x: \" \".join(x for x in x.split() if x not in stop_words))\n",
    "df.head()"
   ]
  },
  {
   "cell_type": "code",
   "execution_count": 47,
   "metadata": {
    "id": "sn-s8AoY1HEV"
   },
   "outputs": [],
   "source": [
    "import textblob\n",
    "from textblob import Word"
   ]
  },
  {
   "cell_type": "code",
   "execution_count": 48,
   "metadata": {
    "colab": {
     "base_uri": "https://localhost:8080/",
     "height": 511
    },
    "id": "F0_PLJUH09oK",
    "outputId": "f4a0f7d2-0279-49ca-a0f3-f56e747c790d"
   },
   "outputs": [
    {
     "data": {
      "text/html": [
       "\n",
       "  <div id=\"df-889115de-0a2e-4f5c-9674-816744f3b6a6\">\n",
       "    <div class=\"colab-df-container\">\n",
       "      <div>\n",
       "<style scoped>\n",
       "    .dataframe tbody tr th:only-of-type {\n",
       "        vertical-align: middle;\n",
       "    }\n",
       "\n",
       "    .dataframe tbody tr th {\n",
       "        vertical-align: top;\n",
       "    }\n",
       "\n",
       "    .dataframe thead th {\n",
       "        text-align: right;\n",
       "    }\n",
       "</style>\n",
       "<table border=\"1\" class=\"dataframe\">\n",
       "  <thead>\n",
       "    <tr style=\"text-align: right;\">\n",
       "      <th></th>\n",
       "      <th>product</th>\n",
       "      <th>title</th>\n",
       "      <th>rating</th>\n",
       "      <th>body</th>\n",
       "      <th>review_lower</th>\n",
       "      <th>review_nopunc</th>\n",
       "      <th>review_nopunc_nostop</th>\n",
       "      <th>cleaned_review</th>\n",
       "    </tr>\n",
       "  </thead>\n",
       "  <tbody>\n",
       "    <tr>\n",
       "      <th>0</th>\n",
       "      <td>OnePlus 108 cm (43 inches) Y Series Full HD LE...</td>\n",
       "      <td>Replacement received from Amazon and it's work...</td>\n",
       "      <td>4.0</td>\n",
       "      <td>The media could not be loaded.\\n              ...</td>\n",
       "      <td>the media could not be loaded. never expected ...</td>\n",
       "      <td>the media could not be loaded never expected t...</td>\n",
       "      <td>media could loaded never expected write negati...</td>\n",
       "      <td>medium could loaded never expected write negat...</td>\n",
       "    </tr>\n",
       "    <tr>\n",
       "      <th>1</th>\n",
       "      <td>OnePlus 108 cm (43 inches) Y Series Full HD LE...</td>\n",
       "      <td>Cinematic picture quality with low quality sou...</td>\n",
       "      <td>4.0</td>\n",
       "      <td>TV is beautiful with minute bezels.I was pleas...</td>\n",
       "      <td>tv is beautiful with minute bezels.i was pleas...</td>\n",
       "      <td>tv is beautiful with minute bezelsi was please...</td>\n",
       "      <td>tv beautiful minute bezelsi pleased picture qu...</td>\n",
       "      <td>tv beautiful minute bezelsi pleased picture qu...</td>\n",
       "    </tr>\n",
       "    <tr>\n",
       "      <th>2</th>\n",
       "      <td>OnePlus 108 cm (43 inches) Y Series Full HD LE...</td>\n",
       "      <td>Y DIS Y series?</td>\n",
       "      <td>1.0</td>\n",
       "      <td>ere is my experience with the Oneplus LAGGY tv...</td>\n",
       "      <td>ere is my experience with the oneplus laggy tv...</td>\n",
       "      <td>ere is my experience with the oneplus laggy tv...</td>\n",
       "      <td>ere experience oneplus laggy tv32y model list ...</td>\n",
       "      <td>ere experience oneplus laggy tv32y model list ...</td>\n",
       "    </tr>\n",
       "    <tr>\n",
       "      <th>3</th>\n",
       "      <td>OnePlus 108 cm (43 inches) Y Series Full HD LE...</td>\n",
       "      <td>Contrast Ratio, Viewing Angle, Colours, All Good.</td>\n",
       "      <td>5.0</td>\n",
       "      <td>I will be brief here.Unboxing:No wall Mount.No...</td>\n",
       "      <td>i will be brief here.unboxing:no wall mount.no...</td>\n",
       "      <td>i will be brief hereunboxingno wall mountno di...</td>\n",
       "      <td>brief hereunboxingno wall mountno display cabl...</td>\n",
       "      <td>brief hereunboxingno wall mountno display cabl...</td>\n",
       "    </tr>\n",
       "    <tr>\n",
       "      <th>4</th>\n",
       "      <td>OnePlus 108 cm (43 inches) Y Series Full HD LE...</td>\n",
       "      <td>Best Budget TV</td>\n",
       "      <td>5.0</td>\n",
       "      <td>After 10 days usage :1. Display is good not be...</td>\n",
       "      <td>after 10 days usage :1. display is good not be...</td>\n",
       "      <td>after 10 days usage 1 display is good not best...</td>\n",
       "      <td>10 days usage 1 display good best2 sound could...</td>\n",
       "      <td>10 day usage 1 display good best2 sound could ...</td>\n",
       "    </tr>\n",
       "  </tbody>\n",
       "</table>\n",
       "</div>\n",
       "      <button class=\"colab-df-convert\" onclick=\"convertToInteractive('df-889115de-0a2e-4f5c-9674-816744f3b6a6')\"\n",
       "              title=\"Convert this dataframe to an interactive table.\"\n",
       "              style=\"display:none;\">\n",
       "        \n",
       "  <svg xmlns=\"http://www.w3.org/2000/svg\" height=\"24px\"viewBox=\"0 0 24 24\"\n",
       "       width=\"24px\">\n",
       "    <path d=\"M0 0h24v24H0V0z\" fill=\"none\"/>\n",
       "    <path d=\"M18.56 5.44l.94 2.06.94-2.06 2.06-.94-2.06-.94-.94-2.06-.94 2.06-2.06.94zm-11 1L8.5 8.5l.94-2.06 2.06-.94-2.06-.94L8.5 2.5l-.94 2.06-2.06.94zm10 10l.94 2.06.94-2.06 2.06-.94-2.06-.94-.94-2.06-.94 2.06-2.06.94z\"/><path d=\"M17.41 7.96l-1.37-1.37c-.4-.4-.92-.59-1.43-.59-.52 0-1.04.2-1.43.59L10.3 9.45l-7.72 7.72c-.78.78-.78 2.05 0 2.83L4 21.41c.39.39.9.59 1.41.59.51 0 1.02-.2 1.41-.59l7.78-7.78 2.81-2.81c.8-.78.8-2.07 0-2.86zM5.41 20L4 18.59l7.72-7.72 1.47 1.35L5.41 20z\"/>\n",
       "  </svg>\n",
       "      </button>\n",
       "      \n",
       "  <style>\n",
       "    .colab-df-container {\n",
       "      display:flex;\n",
       "      flex-wrap:wrap;\n",
       "      gap: 12px;\n",
       "    }\n",
       "\n",
       "    .colab-df-convert {\n",
       "      background-color: #E8F0FE;\n",
       "      border: none;\n",
       "      border-radius: 50%;\n",
       "      cursor: pointer;\n",
       "      display: none;\n",
       "      fill: #1967D2;\n",
       "      height: 32px;\n",
       "      padding: 0 0 0 0;\n",
       "      width: 32px;\n",
       "    }\n",
       "\n",
       "    .colab-df-convert:hover {\n",
       "      background-color: #E2EBFA;\n",
       "      box-shadow: 0px 1px 2px rgba(60, 64, 67, 0.3), 0px 1px 3px 1px rgba(60, 64, 67, 0.15);\n",
       "      fill: #174EA6;\n",
       "    }\n",
       "\n",
       "    [theme=dark] .colab-df-convert {\n",
       "      background-color: #3B4455;\n",
       "      fill: #D2E3FC;\n",
       "    }\n",
       "\n",
       "    [theme=dark] .colab-df-convert:hover {\n",
       "      background-color: #434B5C;\n",
       "      box-shadow: 0px 1px 3px 1px rgba(0, 0, 0, 0.15);\n",
       "      filter: drop-shadow(0px 1px 2px rgba(0, 0, 0, 0.3));\n",
       "      fill: #FFFFFF;\n",
       "    }\n",
       "  </style>\n",
       "\n",
       "      <script>\n",
       "        const buttonEl =\n",
       "          document.querySelector('#df-889115de-0a2e-4f5c-9674-816744f3b6a6 button.colab-df-convert');\n",
       "        buttonEl.style.display =\n",
       "          google.colab.kernel.accessAllowed ? 'block' : 'none';\n",
       "\n",
       "        async function convertToInteractive(key) {\n",
       "          const element = document.querySelector('#df-889115de-0a2e-4f5c-9674-816744f3b6a6');\n",
       "          const dataTable =\n",
       "            await google.colab.kernel.invokeFunction('convertToInteractive',\n",
       "                                                     [key], {});\n",
       "          if (!dataTable) return;\n",
       "\n",
       "          const docLinkHtml = 'Like what you see? Visit the ' +\n",
       "            '<a target=\"_blank\" href=https://colab.research.google.com/notebooks/data_table.ipynb>data table notebook</a>'\n",
       "            + ' to learn more about interactive tables.';\n",
       "          element.innerHTML = '';\n",
       "          dataTable['output_type'] = 'display_data';\n",
       "          await google.colab.output.renderOutput(dataTable, element);\n",
       "          const docLink = document.createElement('div');\n",
       "          docLink.innerHTML = docLinkHtml;\n",
       "          element.appendChild(docLink);\n",
       "        }\n",
       "      </script>\n",
       "    </div>\n",
       "  </div>\n",
       "  "
      ],
      "text/plain": [
       "                                             product  ...                                     cleaned_review\n",
       "0  OnePlus 108 cm (43 inches) Y Series Full HD LE...  ...  medium could loaded never expected write negat...\n",
       "1  OnePlus 108 cm (43 inches) Y Series Full HD LE...  ...  tv beautiful minute bezelsi pleased picture qu...\n",
       "2  OnePlus 108 cm (43 inches) Y Series Full HD LE...  ...  ere experience oneplus laggy tv32y model list ...\n",
       "3  OnePlus 108 cm (43 inches) Y Series Full HD LE...  ...  brief hereunboxingno wall mountno display cabl...\n",
       "4  OnePlus 108 cm (43 inches) Y Series Full HD LE...  ...  10 day usage 1 display good best2 sound could ...\n",
       "\n",
       "[5 rows x 8 columns]"
      ]
     },
     "execution_count": 48,
     "metadata": {},
     "output_type": "execute_result"
    }
   ],
   "source": [
    "# Lemmatize final review format\n",
    "df['cleaned_review'] = df['review_nopunc_nostop'].apply(lambda x: \" \".join([Word(word).lemmatize() for word in x.split()]))\n",
    "df.head()"
   ]
  },
  {
   "cell_type": "code",
   "execution_count": 49,
   "metadata": {
    "id": "1HB7TLYD1OIy"
   },
   "outputs": [],
   "source": [
    "df.to_csv(\"cleaned_review_byT\")"
   ]
  },
  {
   "cell_type": "code",
   "execution_count": 9,
   "metadata": {
    "id": "y3YRK9U6102c"
   },
   "outputs": [],
   "source": [
    "#df['Name'] = df['Name'].str.replace('\\d+', '')\n",
    "#remove numbersin review\n",
    "#df['remove_num'] = df['tokenized'].apply(lambda x: [word.replace('\\d+', '') for word in x])\n",
    "#df.head()"
   ]
  },
  {
   "cell_type": "code",
   "execution_count": 50,
   "metadata": {
    "id": "MQeHKcddrMAJ"
   },
   "outputs": [],
   "source": [
    "#!pip install contractions"
   ]
  },
  {
   "cell_type": "code",
   "execution_count": 51,
   "metadata": {
    "id": "oLweRNTbqnMR"
   },
   "outputs": [],
   "source": [
    "#import contractions\n",
    "#“I’ve” = “I have” \n",
    "#https://towardsdatascience.com/preprocessing-text-data-using-python-576206753c28\n",
    "#df['no_contract'] = df['body'].apply(lambda x: [contractions.fix(word) for word in x.split()])\n",
    "#df.head()"
   ]
  },
  {
   "cell_type": "code",
   "execution_count": 52,
   "metadata": {
    "id": "542HG26SxoPF"
   },
   "outputs": [],
   "source": [
    "# word tokenization\n",
    "#df['tokenized'] = df['body'].apply(word_tokenize)\n",
    "#df.head()"
   ]
  },
  {
   "cell_type": "code",
   "execution_count": 53,
   "metadata": {
    "id": "UABYdoxnzkXv"
   },
   "outputs": [],
   "source": [
    "# Convert to lowercase\n",
    "#df['lower_case'] = df['no_contract'].apply(lambda x: [word.lower() for word in x])\n",
    "#df.head()"
   ]
  },
  {
   "cell_type": "code",
   "execution_count": 54,
   "metadata": {
    "id": "uRquDVjhzsAk"
   },
   "outputs": [],
   "source": [
    "#import string\n",
    "# Removing Punctuations\n",
    "#punc = string.punctuation\n",
    "#f['punctuation'] = df['lower_case'].apply(lambda x: [word for word in x if word not in punc])\n",
    "#df.head()"
   ]
  },
  {
   "cell_type": "code",
   "execution_count": 55,
   "metadata": {
    "id": "7wBG6aOGz5nW"
   },
   "outputs": [],
   "source": [
    "#from nltk.corpus import stopwords\n",
    "# Removing Stopwords\n",
    "#stop_words = set(stopwords.words('english'))\n",
    "#df['remove_stopwords'] = df['punctuation'].apply(lambda x: [word for word in x if word not in stop_words])\n",
    "#df.head()"
   ]
  },
  {
   "cell_type": "code",
   "execution_count": 56,
   "metadata": {
    "id": "BGywEtze0JtQ"
   },
   "outputs": [],
   "source": [
    "#from nltk.stem import WordNetLemmatizer\n",
    "# Lemitization\n",
    "#wnl = WordNetLemmatizer()\n",
    "#df['lemitized'] = df['remove_stopwords'].apply(lambda x: [wnl.lemmatize(word) for word in x])\n",
    "#df.head()"
   ]
  },
  {
   "cell_type": "code",
   "execution_count": 57,
   "metadata": {
    "id": "VxohdVk1tsGi"
   },
   "outputs": [],
   "source": [
    "#df.iloc[4]['lemitized']"
   ]
  },
  {
   "cell_type": "markdown",
   "metadata": {
    "id": "8mDq8FrpvL5K"
   },
   "source": [
    "#Sentiment Analysis"
   ]
  },
  {
   "cell_type": "code",
   "execution_count": 59,
   "metadata": {
    "id": "DNO01G7YvSsg"
   },
   "outputs": [],
   "source": [
    "# Calculate polarity\n",
    "from textblob import TextBlob"
   ]
  },
  {
   "cell_type": "code",
   "execution_count": 60,
   "metadata": {
    "colab": {
     "base_uri": "https://localhost:8080/"
    },
    "id": "2k9hKn_evG1a",
    "outputId": "16625b78-be57-4fff-fbc3-d8736b2a4172"
   },
   "outputs": [
    {
     "data": {
      "text/plain": [
       "0       (-0.04115884115884113, 0.28827838827838825)\n",
       "1          (0.1314393939393939, 0.4159090909090909)\n",
       "2        (0.04771825396825395, 0.35724206349206344)\n",
       "3         (0.40925925925925927, 0.5907407407407407)\n",
       "4          (0.3961309523809524, 0.4071428571428572)\n",
       "                           ...                     \n",
       "5785                                     (1.0, 1.0)\n",
       "5786                      (0.7, 0.6000000000000001)\n",
       "5787                      (0.7, 0.6000000000000001)\n",
       "5788                      (0.7, 0.6000000000000001)\n",
       "5789                                    (0.0, 0.15)\n",
       "Name: cleaned_review, Length: 5790, dtype: object"
      ]
     },
     "execution_count": 60,
     "metadata": {},
     "output_type": "execute_result"
    }
   ],
   "source": [
    "df['cleaned_review'].apply(lambda x: TextBlob(x).sentiment)"
   ]
  },
  {
   "cell_type": "code",
   "execution_count": 61,
   "metadata": {
    "colab": {
     "base_uri": "https://localhost:8080/",
     "height": 511
    },
    "id": "VI-BwK5avGLx",
    "outputId": "19322b2a-b61f-4c80-d46c-91c5e0792ac4"
   },
   "outputs": [
    {
     "data": {
      "text/html": [
       "\n",
       "  <div id=\"df-ef89f053-1747-4b7d-8681-2bb966924909\">\n",
       "    <div class=\"colab-df-container\">\n",
       "      <div>\n",
       "<style scoped>\n",
       "    .dataframe tbody tr th:only-of-type {\n",
       "        vertical-align: middle;\n",
       "    }\n",
       "\n",
       "    .dataframe tbody tr th {\n",
       "        vertical-align: top;\n",
       "    }\n",
       "\n",
       "    .dataframe thead th {\n",
       "        text-align: right;\n",
       "    }\n",
       "</style>\n",
       "<table border=\"1\" class=\"dataframe\">\n",
       "  <thead>\n",
       "    <tr style=\"text-align: right;\">\n",
       "      <th></th>\n",
       "      <th>product</th>\n",
       "      <th>title</th>\n",
       "      <th>rating</th>\n",
       "      <th>body</th>\n",
       "      <th>review_lower</th>\n",
       "      <th>review_nopunc</th>\n",
       "      <th>review_nopunc_nostop</th>\n",
       "      <th>cleaned_review</th>\n",
       "      <th>polarity</th>\n",
       "    </tr>\n",
       "  </thead>\n",
       "  <tbody>\n",
       "    <tr>\n",
       "      <th>0</th>\n",
       "      <td>OnePlus 108 cm (43 inches) Y Series Full HD LE...</td>\n",
       "      <td>Replacement received from Amazon and it's work...</td>\n",
       "      <td>4.0</td>\n",
       "      <td>The media could not be loaded.\\n              ...</td>\n",
       "      <td>the media could not be loaded. never expected ...</td>\n",
       "      <td>the media could not be loaded never expected t...</td>\n",
       "      <td>media could loaded never expected write negati...</td>\n",
       "      <td>medium could loaded never expected write negat...</td>\n",
       "      <td>-0.041159</td>\n",
       "    </tr>\n",
       "    <tr>\n",
       "      <th>1</th>\n",
       "      <td>OnePlus 108 cm (43 inches) Y Series Full HD LE...</td>\n",
       "      <td>Cinematic picture quality with low quality sou...</td>\n",
       "      <td>4.0</td>\n",
       "      <td>TV is beautiful with minute bezels.I was pleas...</td>\n",
       "      <td>tv is beautiful with minute bezels.i was pleas...</td>\n",
       "      <td>tv is beautiful with minute bezelsi was please...</td>\n",
       "      <td>tv beautiful minute bezelsi pleased picture qu...</td>\n",
       "      <td>tv beautiful minute bezelsi pleased picture qu...</td>\n",
       "      <td>0.131439</td>\n",
       "    </tr>\n",
       "    <tr>\n",
       "      <th>2</th>\n",
       "      <td>OnePlus 108 cm (43 inches) Y Series Full HD LE...</td>\n",
       "      <td>Y DIS Y series?</td>\n",
       "      <td>1.0</td>\n",
       "      <td>ere is my experience with the Oneplus LAGGY tv...</td>\n",
       "      <td>ere is my experience with the oneplus laggy tv...</td>\n",
       "      <td>ere is my experience with the oneplus laggy tv...</td>\n",
       "      <td>ere experience oneplus laggy tv32y model list ...</td>\n",
       "      <td>ere experience oneplus laggy tv32y model list ...</td>\n",
       "      <td>0.047718</td>\n",
       "    </tr>\n",
       "    <tr>\n",
       "      <th>3</th>\n",
       "      <td>OnePlus 108 cm (43 inches) Y Series Full HD LE...</td>\n",
       "      <td>Contrast Ratio, Viewing Angle, Colours, All Good.</td>\n",
       "      <td>5.0</td>\n",
       "      <td>I will be brief here.Unboxing:No wall Mount.No...</td>\n",
       "      <td>i will be brief here.unboxing:no wall mount.no...</td>\n",
       "      <td>i will be brief hereunboxingno wall mountno di...</td>\n",
       "      <td>brief hereunboxingno wall mountno display cabl...</td>\n",
       "      <td>brief hereunboxingno wall mountno display cabl...</td>\n",
       "      <td>0.409259</td>\n",
       "    </tr>\n",
       "    <tr>\n",
       "      <th>4</th>\n",
       "      <td>OnePlus 108 cm (43 inches) Y Series Full HD LE...</td>\n",
       "      <td>Best Budget TV</td>\n",
       "      <td>5.0</td>\n",
       "      <td>After 10 days usage :1. Display is good not be...</td>\n",
       "      <td>after 10 days usage :1. display is good not be...</td>\n",
       "      <td>after 10 days usage 1 display is good not best...</td>\n",
       "      <td>10 days usage 1 display good best2 sound could...</td>\n",
       "      <td>10 day usage 1 display good best2 sound could ...</td>\n",
       "      <td>0.396131</td>\n",
       "    </tr>\n",
       "  </tbody>\n",
       "</table>\n",
       "</div>\n",
       "      <button class=\"colab-df-convert\" onclick=\"convertToInteractive('df-ef89f053-1747-4b7d-8681-2bb966924909')\"\n",
       "              title=\"Convert this dataframe to an interactive table.\"\n",
       "              style=\"display:none;\">\n",
       "        \n",
       "  <svg xmlns=\"http://www.w3.org/2000/svg\" height=\"24px\"viewBox=\"0 0 24 24\"\n",
       "       width=\"24px\">\n",
       "    <path d=\"M0 0h24v24H0V0z\" fill=\"none\"/>\n",
       "    <path d=\"M18.56 5.44l.94 2.06.94-2.06 2.06-.94-2.06-.94-.94-2.06-.94 2.06-2.06.94zm-11 1L8.5 8.5l.94-2.06 2.06-.94-2.06-.94L8.5 2.5l-.94 2.06-2.06.94zm10 10l.94 2.06.94-2.06 2.06-.94-2.06-.94-.94-2.06-.94 2.06-2.06.94z\"/><path d=\"M17.41 7.96l-1.37-1.37c-.4-.4-.92-.59-1.43-.59-.52 0-1.04.2-1.43.59L10.3 9.45l-7.72 7.72c-.78.78-.78 2.05 0 2.83L4 21.41c.39.39.9.59 1.41.59.51 0 1.02-.2 1.41-.59l7.78-7.78 2.81-2.81c.8-.78.8-2.07 0-2.86zM5.41 20L4 18.59l7.72-7.72 1.47 1.35L5.41 20z\"/>\n",
       "  </svg>\n",
       "      </button>\n",
       "      \n",
       "  <style>\n",
       "    .colab-df-container {\n",
       "      display:flex;\n",
       "      flex-wrap:wrap;\n",
       "      gap: 12px;\n",
       "    }\n",
       "\n",
       "    .colab-df-convert {\n",
       "      background-color: #E8F0FE;\n",
       "      border: none;\n",
       "      border-radius: 50%;\n",
       "      cursor: pointer;\n",
       "      display: none;\n",
       "      fill: #1967D2;\n",
       "      height: 32px;\n",
       "      padding: 0 0 0 0;\n",
       "      width: 32px;\n",
       "    }\n",
       "\n",
       "    .colab-df-convert:hover {\n",
       "      background-color: #E2EBFA;\n",
       "      box-shadow: 0px 1px 2px rgba(60, 64, 67, 0.3), 0px 1px 3px 1px rgba(60, 64, 67, 0.15);\n",
       "      fill: #174EA6;\n",
       "    }\n",
       "\n",
       "    [theme=dark] .colab-df-convert {\n",
       "      background-color: #3B4455;\n",
       "      fill: #D2E3FC;\n",
       "    }\n",
       "\n",
       "    [theme=dark] .colab-df-convert:hover {\n",
       "      background-color: #434B5C;\n",
       "      box-shadow: 0px 1px 3px 1px rgba(0, 0, 0, 0.15);\n",
       "      filter: drop-shadow(0px 1px 2px rgba(0, 0, 0, 0.3));\n",
       "      fill: #FFFFFF;\n",
       "    }\n",
       "  </style>\n",
       "\n",
       "      <script>\n",
       "        const buttonEl =\n",
       "          document.querySelector('#df-ef89f053-1747-4b7d-8681-2bb966924909 button.colab-df-convert');\n",
       "        buttonEl.style.display =\n",
       "          google.colab.kernel.accessAllowed ? 'block' : 'none';\n",
       "\n",
       "        async function convertToInteractive(key) {\n",
       "          const element = document.querySelector('#df-ef89f053-1747-4b7d-8681-2bb966924909');\n",
       "          const dataTable =\n",
       "            await google.colab.kernel.invokeFunction('convertToInteractive',\n",
       "                                                     [key], {});\n",
       "          if (!dataTable) return;\n",
       "\n",
       "          const docLinkHtml = 'Like what you see? Visit the ' +\n",
       "            '<a target=\"_blank\" href=https://colab.research.google.com/notebooks/data_table.ipynb>data table notebook</a>'\n",
       "            + ' to learn more about interactive tables.';\n",
       "          element.innerHTML = '';\n",
       "          dataTable['output_type'] = 'display_data';\n",
       "          await google.colab.output.renderOutput(dataTable, element);\n",
       "          const docLink = document.createElement('div');\n",
       "          docLink.innerHTML = docLinkHtml;\n",
       "          element.appendChild(docLink);\n",
       "        }\n",
       "      </script>\n",
       "    </div>\n",
       "  </div>\n",
       "  "
      ],
      "text/plain": [
       "                                             product  ...  polarity\n",
       "0  OnePlus 108 cm (43 inches) Y Series Full HD LE...  ... -0.041159\n",
       "1  OnePlus 108 cm (43 inches) Y Series Full HD LE...  ...  0.131439\n",
       "2  OnePlus 108 cm (43 inches) Y Series Full HD LE...  ...  0.047718\n",
       "3  OnePlus 108 cm (43 inches) Y Series Full HD LE...  ...  0.409259\n",
       "4  OnePlus 108 cm (43 inches) Y Series Full HD LE...  ...  0.396131\n",
       "\n",
       "[5 rows x 9 columns]"
      ]
     },
     "execution_count": 61,
     "metadata": {},
     "output_type": "execute_result"
    }
   ],
   "source": [
    "df['polarity'] = df['cleaned_review'].apply(lambda x: TextBlob(x).sentiment[0])\n",
    "df.head()"
   ]
  },
  {
   "cell_type": "code",
   "execution_count": 62,
   "metadata": {
    "colab": {
     "base_uri": "https://localhost:8080/",
     "height": 597
    },
    "id": "TW6nnQkIvGAr",
    "outputId": "b6669160-4a7d-4962-f983-0031d9fc724d"
   },
   "outputs": [
    {
     "data": {
      "text/html": [
       "\n",
       "  <div id=\"df-309020a4-af90-473f-8a1c-798eea5870ab\">\n",
       "    <div class=\"colab-df-container\">\n",
       "      <div>\n",
       "<style scoped>\n",
       "    .dataframe tbody tr th:only-of-type {\n",
       "        vertical-align: middle;\n",
       "    }\n",
       "\n",
       "    .dataframe tbody tr th {\n",
       "        vertical-align: top;\n",
       "    }\n",
       "\n",
       "    .dataframe thead th {\n",
       "        text-align: right;\n",
       "    }\n",
       "</style>\n",
       "<table border=\"1\" class=\"dataframe\">\n",
       "  <thead>\n",
       "    <tr style=\"text-align: right;\">\n",
       "      <th></th>\n",
       "      <th>product</th>\n",
       "      <th>title</th>\n",
       "      <th>rating</th>\n",
       "      <th>body</th>\n",
       "      <th>review_lower</th>\n",
       "      <th>review_nopunc</th>\n",
       "      <th>review_nopunc_nostop</th>\n",
       "      <th>cleaned_review</th>\n",
       "      <th>polarity</th>\n",
       "      <th>subjectivity</th>\n",
       "    </tr>\n",
       "  </thead>\n",
       "  <tbody>\n",
       "    <tr>\n",
       "      <th>0</th>\n",
       "      <td>OnePlus 108 cm (43 inches) Y Series Full HD LE...</td>\n",
       "      <td>Replacement received from Amazon and it's work...</td>\n",
       "      <td>4.0</td>\n",
       "      <td>The media could not be loaded.\\n              ...</td>\n",
       "      <td>the media could not be loaded. never expected ...</td>\n",
       "      <td>the media could not be loaded never expected t...</td>\n",
       "      <td>media could loaded never expected write negati...</td>\n",
       "      <td>medium could loaded never expected write negat...</td>\n",
       "      <td>-0.041159</td>\n",
       "      <td>0.288278</td>\n",
       "    </tr>\n",
       "    <tr>\n",
       "      <th>1</th>\n",
       "      <td>OnePlus 108 cm (43 inches) Y Series Full HD LE...</td>\n",
       "      <td>Cinematic picture quality with low quality sou...</td>\n",
       "      <td>4.0</td>\n",
       "      <td>TV is beautiful with minute bezels.I was pleas...</td>\n",
       "      <td>tv is beautiful with minute bezels.i was pleas...</td>\n",
       "      <td>tv is beautiful with minute bezelsi was please...</td>\n",
       "      <td>tv beautiful minute bezelsi pleased picture qu...</td>\n",
       "      <td>tv beautiful minute bezelsi pleased picture qu...</td>\n",
       "      <td>0.131439</td>\n",
       "      <td>0.415909</td>\n",
       "    </tr>\n",
       "    <tr>\n",
       "      <th>2</th>\n",
       "      <td>OnePlus 108 cm (43 inches) Y Series Full HD LE...</td>\n",
       "      <td>Y DIS Y series?</td>\n",
       "      <td>1.0</td>\n",
       "      <td>ere is my experience with the Oneplus LAGGY tv...</td>\n",
       "      <td>ere is my experience with the oneplus laggy tv...</td>\n",
       "      <td>ere is my experience with the oneplus laggy tv...</td>\n",
       "      <td>ere experience oneplus laggy tv32y model list ...</td>\n",
       "      <td>ere experience oneplus laggy tv32y model list ...</td>\n",
       "      <td>0.047718</td>\n",
       "      <td>0.357242</td>\n",
       "    </tr>\n",
       "    <tr>\n",
       "      <th>3</th>\n",
       "      <td>OnePlus 108 cm (43 inches) Y Series Full HD LE...</td>\n",
       "      <td>Contrast Ratio, Viewing Angle, Colours, All Good.</td>\n",
       "      <td>5.0</td>\n",
       "      <td>I will be brief here.Unboxing:No wall Mount.No...</td>\n",
       "      <td>i will be brief here.unboxing:no wall mount.no...</td>\n",
       "      <td>i will be brief hereunboxingno wall mountno di...</td>\n",
       "      <td>brief hereunboxingno wall mountno display cabl...</td>\n",
       "      <td>brief hereunboxingno wall mountno display cabl...</td>\n",
       "      <td>0.409259</td>\n",
       "      <td>0.590741</td>\n",
       "    </tr>\n",
       "    <tr>\n",
       "      <th>4</th>\n",
       "      <td>OnePlus 108 cm (43 inches) Y Series Full HD LE...</td>\n",
       "      <td>Best Budget TV</td>\n",
       "      <td>5.0</td>\n",
       "      <td>After 10 days usage :1. Display is good not be...</td>\n",
       "      <td>after 10 days usage :1. display is good not be...</td>\n",
       "      <td>after 10 days usage 1 display is good not best...</td>\n",
       "      <td>10 days usage 1 display good best2 sound could...</td>\n",
       "      <td>10 day usage 1 display good best2 sound could ...</td>\n",
       "      <td>0.396131</td>\n",
       "      <td>0.407143</td>\n",
       "    </tr>\n",
       "  </tbody>\n",
       "</table>\n",
       "</div>\n",
       "      <button class=\"colab-df-convert\" onclick=\"convertToInteractive('df-309020a4-af90-473f-8a1c-798eea5870ab')\"\n",
       "              title=\"Convert this dataframe to an interactive table.\"\n",
       "              style=\"display:none;\">\n",
       "        \n",
       "  <svg xmlns=\"http://www.w3.org/2000/svg\" height=\"24px\"viewBox=\"0 0 24 24\"\n",
       "       width=\"24px\">\n",
       "    <path d=\"M0 0h24v24H0V0z\" fill=\"none\"/>\n",
       "    <path d=\"M18.56 5.44l.94 2.06.94-2.06 2.06-.94-2.06-.94-.94-2.06-.94 2.06-2.06.94zm-11 1L8.5 8.5l.94-2.06 2.06-.94-2.06-.94L8.5 2.5l-.94 2.06-2.06.94zm10 10l.94 2.06.94-2.06 2.06-.94-2.06-.94-.94-2.06-.94 2.06-2.06.94z\"/><path d=\"M17.41 7.96l-1.37-1.37c-.4-.4-.92-.59-1.43-.59-.52 0-1.04.2-1.43.59L10.3 9.45l-7.72 7.72c-.78.78-.78 2.05 0 2.83L4 21.41c.39.39.9.59 1.41.59.51 0 1.02-.2 1.41-.59l7.78-7.78 2.81-2.81c.8-.78.8-2.07 0-2.86zM5.41 20L4 18.59l7.72-7.72 1.47 1.35L5.41 20z\"/>\n",
       "  </svg>\n",
       "      </button>\n",
       "      \n",
       "  <style>\n",
       "    .colab-df-container {\n",
       "      display:flex;\n",
       "      flex-wrap:wrap;\n",
       "      gap: 12px;\n",
       "    }\n",
       "\n",
       "    .colab-df-convert {\n",
       "      background-color: #E8F0FE;\n",
       "      border: none;\n",
       "      border-radius: 50%;\n",
       "      cursor: pointer;\n",
       "      display: none;\n",
       "      fill: #1967D2;\n",
       "      height: 32px;\n",
       "      padding: 0 0 0 0;\n",
       "      width: 32px;\n",
       "    }\n",
       "\n",
       "    .colab-df-convert:hover {\n",
       "      background-color: #E2EBFA;\n",
       "      box-shadow: 0px 1px 2px rgba(60, 64, 67, 0.3), 0px 1px 3px 1px rgba(60, 64, 67, 0.15);\n",
       "      fill: #174EA6;\n",
       "    }\n",
       "\n",
       "    [theme=dark] .colab-df-convert {\n",
       "      background-color: #3B4455;\n",
       "      fill: #D2E3FC;\n",
       "    }\n",
       "\n",
       "    [theme=dark] .colab-df-convert:hover {\n",
       "      background-color: #434B5C;\n",
       "      box-shadow: 0px 1px 3px 1px rgba(0, 0, 0, 0.15);\n",
       "      filter: drop-shadow(0px 1px 2px rgba(0, 0, 0, 0.3));\n",
       "      fill: #FFFFFF;\n",
       "    }\n",
       "  </style>\n",
       "\n",
       "      <script>\n",
       "        const buttonEl =\n",
       "          document.querySelector('#df-309020a4-af90-473f-8a1c-798eea5870ab button.colab-df-convert');\n",
       "        buttonEl.style.display =\n",
       "          google.colab.kernel.accessAllowed ? 'block' : 'none';\n",
       "\n",
       "        async function convertToInteractive(key) {\n",
       "          const element = document.querySelector('#df-309020a4-af90-473f-8a1c-798eea5870ab');\n",
       "          const dataTable =\n",
       "            await google.colab.kernel.invokeFunction('convertToInteractive',\n",
       "                                                     [key], {});\n",
       "          if (!dataTable) return;\n",
       "\n",
       "          const docLinkHtml = 'Like what you see? Visit the ' +\n",
       "            '<a target=\"_blank\" href=https://colab.research.google.com/notebooks/data_table.ipynb>data table notebook</a>'\n",
       "            + ' to learn more about interactive tables.';\n",
       "          element.innerHTML = '';\n",
       "          dataTable['output_type'] = 'display_data';\n",
       "          await google.colab.output.renderOutput(dataTable, element);\n",
       "          const docLink = document.createElement('div');\n",
       "          docLink.innerHTML = docLinkHtml;\n",
       "          element.appendChild(docLink);\n",
       "        }\n",
       "      </script>\n",
       "    </div>\n",
       "  </div>\n",
       "  "
      ],
      "text/plain": [
       "                                             product  ... subjectivity\n",
       "0  OnePlus 108 cm (43 inches) Y Series Full HD LE...  ...     0.288278\n",
       "1  OnePlus 108 cm (43 inches) Y Series Full HD LE...  ...     0.415909\n",
       "2  OnePlus 108 cm (43 inches) Y Series Full HD LE...  ...     0.357242\n",
       "3  OnePlus 108 cm (43 inches) Y Series Full HD LE...  ...     0.590741\n",
       "4  OnePlus 108 cm (43 inches) Y Series Full HD LE...  ...     0.407143\n",
       "\n",
       "[5 rows x 10 columns]"
      ]
     },
     "execution_count": 62,
     "metadata": {},
     "output_type": "execute_result"
    }
   ],
   "source": [
    "# Calculate subjectivity\n",
    "df['subjectivity'] = df['cleaned_review'].apply(lambda x: TextBlob(x).sentiment[1])\n",
    "df.head()"
   ]
  },
  {
   "cell_type": "code",
   "execution_count": 63,
   "metadata": {
    "id": "aNVdBPYg3agR"
   },
   "outputs": [],
   "source": [
    "df.to_csv(\"cleaned_review_byT_2\")"
   ]
  },
  {
   "cell_type": "code",
   "execution_count": 64,
   "metadata": {
    "colab": {
     "base_uri": "https://localhost:8080/",
     "height": 771
    },
    "id": "sTFTybJdTSfH",
    "outputId": "78e23579-dc25-4b22-9b3a-2f87f9862afc"
   },
   "outputs": [
    {
     "data": {
      "text/html": [
       "\n",
       "  <div id=\"df-3101c0c1-fa57-457c-900d-16a16249ae57\">\n",
       "    <div class=\"colab-df-container\">\n",
       "      <div>\n",
       "<style scoped>\n",
       "    .dataframe tbody tr th:only-of-type {\n",
       "        vertical-align: middle;\n",
       "    }\n",
       "\n",
       "    .dataframe tbody tr th {\n",
       "        vertical-align: top;\n",
       "    }\n",
       "\n",
       "    .dataframe thead th {\n",
       "        text-align: right;\n",
       "    }\n",
       "</style>\n",
       "<table border=\"1\" class=\"dataframe\">\n",
       "  <thead>\n",
       "    <tr style=\"text-align: right;\">\n",
       "      <th></th>\n",
       "      <th>product</th>\n",
       "      <th>title</th>\n",
       "      <th>rating</th>\n",
       "      <th>body</th>\n",
       "      <th>review_lower</th>\n",
       "      <th>review_nopunc</th>\n",
       "      <th>review_nopunc_nostop</th>\n",
       "      <th>cleaned_review</th>\n",
       "      <th>polarity</th>\n",
       "      <th>subjectivity</th>\n",
       "      <th>sentiment_by_polarity</th>\n",
       "    </tr>\n",
       "  </thead>\n",
       "  <tbody>\n",
       "    <tr>\n",
       "      <th>0</th>\n",
       "      <td>OnePlus 108 cm (43 inches) Y Series Full HD LE...</td>\n",
       "      <td>Replacement received from Amazon and it's work...</td>\n",
       "      <td>4.0</td>\n",
       "      <td>The media could not be loaded.\\n              ...</td>\n",
       "      <td>the media could not be loaded. never expected ...</td>\n",
       "      <td>the media could not be loaded never expected t...</td>\n",
       "      <td>media could loaded never expected write negati...</td>\n",
       "      <td>medium could loaded never expected write negat...</td>\n",
       "      <td>-0.041159</td>\n",
       "      <td>0.288278</td>\n",
       "      <td>0</td>\n",
       "    </tr>\n",
       "    <tr>\n",
       "      <th>1</th>\n",
       "      <td>OnePlus 108 cm (43 inches) Y Series Full HD LE...</td>\n",
       "      <td>Cinematic picture quality with low quality sou...</td>\n",
       "      <td>4.0</td>\n",
       "      <td>TV is beautiful with minute bezels.I was pleas...</td>\n",
       "      <td>tv is beautiful with minute bezels.i was pleas...</td>\n",
       "      <td>tv is beautiful with minute bezelsi was please...</td>\n",
       "      <td>tv beautiful minute bezelsi pleased picture qu...</td>\n",
       "      <td>tv beautiful minute bezelsi pleased picture qu...</td>\n",
       "      <td>0.131439</td>\n",
       "      <td>0.415909</td>\n",
       "      <td>1</td>\n",
       "    </tr>\n",
       "    <tr>\n",
       "      <th>2</th>\n",
       "      <td>OnePlus 108 cm (43 inches) Y Series Full HD LE...</td>\n",
       "      <td>Y DIS Y series?</td>\n",
       "      <td>1.0</td>\n",
       "      <td>ere is my experience with the Oneplus LAGGY tv...</td>\n",
       "      <td>ere is my experience with the oneplus laggy tv...</td>\n",
       "      <td>ere is my experience with the oneplus laggy tv...</td>\n",
       "      <td>ere experience oneplus laggy tv32y model list ...</td>\n",
       "      <td>ere experience oneplus laggy tv32y model list ...</td>\n",
       "      <td>0.047718</td>\n",
       "      <td>0.357242</td>\n",
       "      <td>1</td>\n",
       "    </tr>\n",
       "    <tr>\n",
       "      <th>3</th>\n",
       "      <td>OnePlus 108 cm (43 inches) Y Series Full HD LE...</td>\n",
       "      <td>Contrast Ratio, Viewing Angle, Colours, All Good.</td>\n",
       "      <td>5.0</td>\n",
       "      <td>I will be brief here.Unboxing:No wall Mount.No...</td>\n",
       "      <td>i will be brief here.unboxing:no wall mount.no...</td>\n",
       "      <td>i will be brief hereunboxingno wall mountno di...</td>\n",
       "      <td>brief hereunboxingno wall mountno display cabl...</td>\n",
       "      <td>brief hereunboxingno wall mountno display cabl...</td>\n",
       "      <td>0.409259</td>\n",
       "      <td>0.590741</td>\n",
       "      <td>1</td>\n",
       "    </tr>\n",
       "    <tr>\n",
       "      <th>4</th>\n",
       "      <td>OnePlus 108 cm (43 inches) Y Series Full HD LE...</td>\n",
       "      <td>Best Budget TV</td>\n",
       "      <td>5.0</td>\n",
       "      <td>After 10 days usage :1. Display is good not be...</td>\n",
       "      <td>after 10 days usage :1. display is good not be...</td>\n",
       "      <td>after 10 days usage 1 display is good not best...</td>\n",
       "      <td>10 days usage 1 display good best2 sound could...</td>\n",
       "      <td>10 day usage 1 display good best2 sound could ...</td>\n",
       "      <td>0.396131</td>\n",
       "      <td>0.407143</td>\n",
       "      <td>1</td>\n",
       "    </tr>\n",
       "  </tbody>\n",
       "</table>\n",
       "</div>\n",
       "      <button class=\"colab-df-convert\" onclick=\"convertToInteractive('df-3101c0c1-fa57-457c-900d-16a16249ae57')\"\n",
       "              title=\"Convert this dataframe to an interactive table.\"\n",
       "              style=\"display:none;\">\n",
       "        \n",
       "  <svg xmlns=\"http://www.w3.org/2000/svg\" height=\"24px\"viewBox=\"0 0 24 24\"\n",
       "       width=\"24px\">\n",
       "    <path d=\"M0 0h24v24H0V0z\" fill=\"none\"/>\n",
       "    <path d=\"M18.56 5.44l.94 2.06.94-2.06 2.06-.94-2.06-.94-.94-2.06-.94 2.06-2.06.94zm-11 1L8.5 8.5l.94-2.06 2.06-.94-2.06-.94L8.5 2.5l-.94 2.06-2.06.94zm10 10l.94 2.06.94-2.06 2.06-.94-2.06-.94-.94-2.06-.94 2.06-2.06.94z\"/><path d=\"M17.41 7.96l-1.37-1.37c-.4-.4-.92-.59-1.43-.59-.52 0-1.04.2-1.43.59L10.3 9.45l-7.72 7.72c-.78.78-.78 2.05 0 2.83L4 21.41c.39.39.9.59 1.41.59.51 0 1.02-.2 1.41-.59l7.78-7.78 2.81-2.81c.8-.78.8-2.07 0-2.86zM5.41 20L4 18.59l7.72-7.72 1.47 1.35L5.41 20z\"/>\n",
       "  </svg>\n",
       "      </button>\n",
       "      \n",
       "  <style>\n",
       "    .colab-df-container {\n",
       "      display:flex;\n",
       "      flex-wrap:wrap;\n",
       "      gap: 12px;\n",
       "    }\n",
       "\n",
       "    .colab-df-convert {\n",
       "      background-color: #E8F0FE;\n",
       "      border: none;\n",
       "      border-radius: 50%;\n",
       "      cursor: pointer;\n",
       "      display: none;\n",
       "      fill: #1967D2;\n",
       "      height: 32px;\n",
       "      padding: 0 0 0 0;\n",
       "      width: 32px;\n",
       "    }\n",
       "\n",
       "    .colab-df-convert:hover {\n",
       "      background-color: #E2EBFA;\n",
       "      box-shadow: 0px 1px 2px rgba(60, 64, 67, 0.3), 0px 1px 3px 1px rgba(60, 64, 67, 0.15);\n",
       "      fill: #174EA6;\n",
       "    }\n",
       "\n",
       "    [theme=dark] .colab-df-convert {\n",
       "      background-color: #3B4455;\n",
       "      fill: #D2E3FC;\n",
       "    }\n",
       "\n",
       "    [theme=dark] .colab-df-convert:hover {\n",
       "      background-color: #434B5C;\n",
       "      box-shadow: 0px 1px 3px 1px rgba(0, 0, 0, 0.15);\n",
       "      filter: drop-shadow(0px 1px 2px rgba(0, 0, 0, 0.3));\n",
       "      fill: #FFFFFF;\n",
       "    }\n",
       "  </style>\n",
       "\n",
       "      <script>\n",
       "        const buttonEl =\n",
       "          document.querySelector('#df-3101c0c1-fa57-457c-900d-16a16249ae57 button.colab-df-convert');\n",
       "        buttonEl.style.display =\n",
       "          google.colab.kernel.accessAllowed ? 'block' : 'none';\n",
       "\n",
       "        async function convertToInteractive(key) {\n",
       "          const element = document.querySelector('#df-3101c0c1-fa57-457c-900d-16a16249ae57');\n",
       "          const dataTable =\n",
       "            await google.colab.kernel.invokeFunction('convertToInteractive',\n",
       "                                                     [key], {});\n",
       "          if (!dataTable) return;\n",
       "\n",
       "          const docLinkHtml = 'Like what you see? Visit the ' +\n",
       "            '<a target=\"_blank\" href=https://colab.research.google.com/notebooks/data_table.ipynb>data table notebook</a>'\n",
       "            + ' to learn more about interactive tables.';\n",
       "          element.innerHTML = '';\n",
       "          dataTable['output_type'] = 'display_data';\n",
       "          await google.colab.output.renderOutput(dataTable, element);\n",
       "          const docLink = document.createElement('div');\n",
       "          docLink.innerHTML = docLinkHtml;\n",
       "          element.appendChild(docLink);\n",
       "        }\n",
       "      </script>\n",
       "    </div>\n",
       "  </div>\n",
       "  "
      ],
      "text/plain": [
       "                                             product  ... sentiment_by_polarity\n",
       "0  OnePlus 108 cm (43 inches) Y Series Full HD LE...  ...                     0\n",
       "1  OnePlus 108 cm (43 inches) Y Series Full HD LE...  ...                     1\n",
       "2  OnePlus 108 cm (43 inches) Y Series Full HD LE...  ...                     1\n",
       "3  OnePlus 108 cm (43 inches) Y Series Full HD LE...  ...                     1\n",
       "4  OnePlus 108 cm (43 inches) Y Series Full HD LE...  ...                     1\n",
       "\n",
       "[5 rows x 11 columns]"
      ]
     },
     "execution_count": 64,
     "metadata": {},
     "output_type": "execute_result"
    }
   ],
   "source": [
    "df[\"sentiment_by_polarity\"] = np.where(df[\"polarity\"]>=0, \"1\", \"0\")\n",
    "df.head()"
   ]
  },
  {
   "cell_type": "code",
   "execution_count": 65,
   "metadata": {
    "colab": {
     "base_uri": "https://localhost:8080/",
     "height": 791
    },
    "id": "retYX7W8314M",
    "outputId": "7ea477b3-326f-4585-c13a-b18478e4955b"
   },
   "outputs": [
    {
     "data": {
      "text/html": [
       "\n",
       "  <div id=\"df-cbc4ccda-8502-4df5-94dc-fb4a4bdb4480\">\n",
       "    <div class=\"colab-df-container\">\n",
       "      <div>\n",
       "<style scoped>\n",
       "    .dataframe tbody tr th:only-of-type {\n",
       "        vertical-align: middle;\n",
       "    }\n",
       "\n",
       "    .dataframe tbody tr th {\n",
       "        vertical-align: top;\n",
       "    }\n",
       "\n",
       "    .dataframe thead th {\n",
       "        text-align: right;\n",
       "    }\n",
       "</style>\n",
       "<table border=\"1\" class=\"dataframe\">\n",
       "  <thead>\n",
       "    <tr style=\"text-align: right;\">\n",
       "      <th></th>\n",
       "      <th>product</th>\n",
       "      <th>title</th>\n",
       "      <th>rating</th>\n",
       "      <th>body</th>\n",
       "      <th>review_lower</th>\n",
       "      <th>review_nopunc</th>\n",
       "      <th>review_nopunc_nostop</th>\n",
       "      <th>cleaned_review</th>\n",
       "      <th>polarity</th>\n",
       "      <th>subjectivity</th>\n",
       "      <th>sentiment_by_polarity</th>\n",
       "      <th>sentiment_by_rating</th>\n",
       "    </tr>\n",
       "  </thead>\n",
       "  <tbody>\n",
       "    <tr>\n",
       "      <th>0</th>\n",
       "      <td>OnePlus 108 cm (43 inches) Y Series Full HD LE...</td>\n",
       "      <td>Replacement received from Amazon and it's work...</td>\n",
       "      <td>4.0</td>\n",
       "      <td>The media could not be loaded.\\n              ...</td>\n",
       "      <td>the media could not be loaded. never expected ...</td>\n",
       "      <td>the media could not be loaded never expected t...</td>\n",
       "      <td>media could loaded never expected write negati...</td>\n",
       "      <td>medium could loaded never expected write negat...</td>\n",
       "      <td>-0.041159</td>\n",
       "      <td>0.288278</td>\n",
       "      <td>0</td>\n",
       "      <td>1</td>\n",
       "    </tr>\n",
       "    <tr>\n",
       "      <th>1</th>\n",
       "      <td>OnePlus 108 cm (43 inches) Y Series Full HD LE...</td>\n",
       "      <td>Cinematic picture quality with low quality sou...</td>\n",
       "      <td>4.0</td>\n",
       "      <td>TV is beautiful with minute bezels.I was pleas...</td>\n",
       "      <td>tv is beautiful with minute bezels.i was pleas...</td>\n",
       "      <td>tv is beautiful with minute bezelsi was please...</td>\n",
       "      <td>tv beautiful minute bezelsi pleased picture qu...</td>\n",
       "      <td>tv beautiful minute bezelsi pleased picture qu...</td>\n",
       "      <td>0.131439</td>\n",
       "      <td>0.415909</td>\n",
       "      <td>1</td>\n",
       "      <td>1</td>\n",
       "    </tr>\n",
       "    <tr>\n",
       "      <th>2</th>\n",
       "      <td>OnePlus 108 cm (43 inches) Y Series Full HD LE...</td>\n",
       "      <td>Y DIS Y series?</td>\n",
       "      <td>1.0</td>\n",
       "      <td>ere is my experience with the Oneplus LAGGY tv...</td>\n",
       "      <td>ere is my experience with the oneplus laggy tv...</td>\n",
       "      <td>ere is my experience with the oneplus laggy tv...</td>\n",
       "      <td>ere experience oneplus laggy tv32y model list ...</td>\n",
       "      <td>ere experience oneplus laggy tv32y model list ...</td>\n",
       "      <td>0.047718</td>\n",
       "      <td>0.357242</td>\n",
       "      <td>1</td>\n",
       "      <td>0</td>\n",
       "    </tr>\n",
       "    <tr>\n",
       "      <th>3</th>\n",
       "      <td>OnePlus 108 cm (43 inches) Y Series Full HD LE...</td>\n",
       "      <td>Contrast Ratio, Viewing Angle, Colours, All Good.</td>\n",
       "      <td>5.0</td>\n",
       "      <td>I will be brief here.Unboxing:No wall Mount.No...</td>\n",
       "      <td>i will be brief here.unboxing:no wall mount.no...</td>\n",
       "      <td>i will be brief hereunboxingno wall mountno di...</td>\n",
       "      <td>brief hereunboxingno wall mountno display cabl...</td>\n",
       "      <td>brief hereunboxingno wall mountno display cabl...</td>\n",
       "      <td>0.409259</td>\n",
       "      <td>0.590741</td>\n",
       "      <td>1</td>\n",
       "      <td>1</td>\n",
       "    </tr>\n",
       "    <tr>\n",
       "      <th>4</th>\n",
       "      <td>OnePlus 108 cm (43 inches) Y Series Full HD LE...</td>\n",
       "      <td>Best Budget TV</td>\n",
       "      <td>5.0</td>\n",
       "      <td>After 10 days usage :1. Display is good not be...</td>\n",
       "      <td>after 10 days usage :1. display is good not be...</td>\n",
       "      <td>after 10 days usage 1 display is good not best...</td>\n",
       "      <td>10 days usage 1 display good best2 sound could...</td>\n",
       "      <td>10 day usage 1 display good best2 sound could ...</td>\n",
       "      <td>0.396131</td>\n",
       "      <td>0.407143</td>\n",
       "      <td>1</td>\n",
       "      <td>1</td>\n",
       "    </tr>\n",
       "  </tbody>\n",
       "</table>\n",
       "</div>\n",
       "      <button class=\"colab-df-convert\" onclick=\"convertToInteractive('df-cbc4ccda-8502-4df5-94dc-fb4a4bdb4480')\"\n",
       "              title=\"Convert this dataframe to an interactive table.\"\n",
       "              style=\"display:none;\">\n",
       "        \n",
       "  <svg xmlns=\"http://www.w3.org/2000/svg\" height=\"24px\"viewBox=\"0 0 24 24\"\n",
       "       width=\"24px\">\n",
       "    <path d=\"M0 0h24v24H0V0z\" fill=\"none\"/>\n",
       "    <path d=\"M18.56 5.44l.94 2.06.94-2.06 2.06-.94-2.06-.94-.94-2.06-.94 2.06-2.06.94zm-11 1L8.5 8.5l.94-2.06 2.06-.94-2.06-.94L8.5 2.5l-.94 2.06-2.06.94zm10 10l.94 2.06.94-2.06 2.06-.94-2.06-.94-.94-2.06-.94 2.06-2.06.94z\"/><path d=\"M17.41 7.96l-1.37-1.37c-.4-.4-.92-.59-1.43-.59-.52 0-1.04.2-1.43.59L10.3 9.45l-7.72 7.72c-.78.78-.78 2.05 0 2.83L4 21.41c.39.39.9.59 1.41.59.51 0 1.02-.2 1.41-.59l7.78-7.78 2.81-2.81c.8-.78.8-2.07 0-2.86zM5.41 20L4 18.59l7.72-7.72 1.47 1.35L5.41 20z\"/>\n",
       "  </svg>\n",
       "      </button>\n",
       "      \n",
       "  <style>\n",
       "    .colab-df-container {\n",
       "      display:flex;\n",
       "      flex-wrap:wrap;\n",
       "      gap: 12px;\n",
       "    }\n",
       "\n",
       "    .colab-df-convert {\n",
       "      background-color: #E8F0FE;\n",
       "      border: none;\n",
       "      border-radius: 50%;\n",
       "      cursor: pointer;\n",
       "      display: none;\n",
       "      fill: #1967D2;\n",
       "      height: 32px;\n",
       "      padding: 0 0 0 0;\n",
       "      width: 32px;\n",
       "    }\n",
       "\n",
       "    .colab-df-convert:hover {\n",
       "      background-color: #E2EBFA;\n",
       "      box-shadow: 0px 1px 2px rgba(60, 64, 67, 0.3), 0px 1px 3px 1px rgba(60, 64, 67, 0.15);\n",
       "      fill: #174EA6;\n",
       "    }\n",
       "\n",
       "    [theme=dark] .colab-df-convert {\n",
       "      background-color: #3B4455;\n",
       "      fill: #D2E3FC;\n",
       "    }\n",
       "\n",
       "    [theme=dark] .colab-df-convert:hover {\n",
       "      background-color: #434B5C;\n",
       "      box-shadow: 0px 1px 3px 1px rgba(0, 0, 0, 0.15);\n",
       "      filter: drop-shadow(0px 1px 2px rgba(0, 0, 0, 0.3));\n",
       "      fill: #FFFFFF;\n",
       "    }\n",
       "  </style>\n",
       "\n",
       "      <script>\n",
       "        const buttonEl =\n",
       "          document.querySelector('#df-cbc4ccda-8502-4df5-94dc-fb4a4bdb4480 button.colab-df-convert');\n",
       "        buttonEl.style.display =\n",
       "          google.colab.kernel.accessAllowed ? 'block' : 'none';\n",
       "\n",
       "        async function convertToInteractive(key) {\n",
       "          const element = document.querySelector('#df-cbc4ccda-8502-4df5-94dc-fb4a4bdb4480');\n",
       "          const dataTable =\n",
       "            await google.colab.kernel.invokeFunction('convertToInteractive',\n",
       "                                                     [key], {});\n",
       "          if (!dataTable) return;\n",
       "\n",
       "          const docLinkHtml = 'Like what you see? Visit the ' +\n",
       "            '<a target=\"_blank\" href=https://colab.research.google.com/notebooks/data_table.ipynb>data table notebook</a>'\n",
       "            + ' to learn more about interactive tables.';\n",
       "          element.innerHTML = '';\n",
       "          dataTable['output_type'] = 'display_data';\n",
       "          await google.colab.output.renderOutput(dataTable, element);\n",
       "          const docLink = document.createElement('div');\n",
       "          docLink.innerHTML = docLinkHtml;\n",
       "          element.appendChild(docLink);\n",
       "        }\n",
       "      </script>\n",
       "    </div>\n",
       "  </div>\n",
       "  "
      ],
      "text/plain": [
       "                                             product  ... sentiment_by_rating\n",
       "0  OnePlus 108 cm (43 inches) Y Series Full HD LE...  ...                   1\n",
       "1  OnePlus 108 cm (43 inches) Y Series Full HD LE...  ...                   1\n",
       "2  OnePlus 108 cm (43 inches) Y Series Full HD LE...  ...                   0\n",
       "3  OnePlus 108 cm (43 inches) Y Series Full HD LE...  ...                   1\n",
       "4  OnePlus 108 cm (43 inches) Y Series Full HD LE...  ...                   1\n",
       "\n",
       "[5 rows x 12 columns]"
      ]
     },
     "execution_count": 65,
     "metadata": {},
     "output_type": "execute_result"
    }
   ],
   "source": [
    "df[\"sentiment_by_rating\"] = np.where(df[\"rating\"]>=3, \"1\", \"0\")\n",
    "df.head()"
   ]
  },
  {
   "cell_type": "code",
   "execution_count": 66,
   "metadata": {
    "id": "ygsciGSsToLP"
   },
   "outputs": [],
   "source": [
    "df.to_csv(\"cleaned_review_byT_3\")"
   ]
  },
  {
   "cell_type": "code",
   "execution_count": 67,
   "metadata": {
    "colab": {
     "base_uri": "https://localhost:8080/",
     "height": 353
    },
    "id": "Ma7W7BsaTpSr",
    "outputId": "eab888aa-100a-4217-e475-4bb1fa7d76f5"
   },
   "outputs": [
    {
     "data": {
      "text/plain": [
       "<matplotlib.axes._subplots.AxesSubplot at 0x7f835d387a90>"
      ]
     },
     "execution_count": 67,
     "metadata": {},
     "output_type": "execute_result"
    },
    {
     "data": {
      "image/png": "[encoded data removed]",
      "text/plain": [
       "<Figure size 360x360 with 1 Axes>"
      ]
     },
     "metadata": {
      "needs_background": "light"
     },
     "output_type": "display_data"
    }
   ],
   "source": [
    "plt.figure(figsize=(5,5))\n",
    "plt.xticks(rotation=45)\n",
    "sns.countplot(x=\"sentiment_by_polarity\", data=df)"
   ]
  },
  {
   "cell_type": "code",
   "execution_count": 69,
   "metadata": {
    "colab": {
     "base_uri": "https://localhost:8080/"
    },
    "id": "R-qLWCTm8Wzf",
    "outputId": "c60373c0-6f44-4854-e14b-f20fa5557b21"
   },
   "outputs": [
    {
     "data": {
      "text/plain": [
       "1    4499\n",
       "0    1291\n",
       "Name: sentiment_by_polarity, dtype: int64"
      ]
     },
     "execution_count": 69,
     "metadata": {},
     "output_type": "execute_result"
    }
   ],
   "source": [
    "df['sentiment_by_polarity'].value_counts()"
   ]
  },
  {
   "cell_type": "code",
   "execution_count": 68,
   "metadata": {
    "colab": {
     "base_uri": "https://localhost:8080/",
     "height": 353
    },
    "id": "BJjC1ZPL5m7O",
    "outputId": "57f5fc78-3f37-4042-e04e-f7ef4d227eac"
   },
   "outputs": [
    {
     "data": {
      "text/plain": [
       "<matplotlib.axes._subplots.AxesSubplot at 0x7f835d1c0890>"
      ]
     },
     "execution_count": 68,
     "metadata": {},
     "output_type": "execute_result"
    },
    {
     "data": {
      "image/png": "[encoded data removed]",
      "text/plain": [
       "<Figure size 360x360 with 1 Axes>"
      ]
     },
     "metadata": {
      "needs_background": "light"
     },
     "output_type": "display_data"
    }
   ],
   "source": [
    "plt.figure(figsize=(5,5))\n",
    "plt.xticks(rotation=45)\n",
    "sns.countplot(x=\"sentiment_by_rating\", data=df)"
   ]
  },
  {
   "cell_type": "code",
   "execution_count": 70,
   "metadata": {
    "colab": {
     "base_uri": "https://localhost:8080/"
    },
    "id": "_AUAJRXc8dky",
    "outputId": "6e8e7904-bd9b-4614-e6bb-82cc78737b0e"
   },
   "outputs": [
    {
     "data": {
      "text/plain": [
       "1    3667\n",
       "0    2123\n",
       "Name: sentiment_by_rating, dtype: int64"
      ]
     },
     "execution_count": 70,
     "metadata": {},
     "output_type": "execute_result"
    }
   ],
   "source": [
    "df['sentiment_by_rating'].value_counts()"
   ]
  },
  {
   "cell_type": "code",
   "execution_count": null,
   "metadata": {
    "id": "-GWC6ePvG9k3"
   },
   "outputs": [],
   "source": [
    "df = pd.read_csv(\"/content/sample_data/sentiment_oneplus_reviews_3.csv\")"
   ]
  },
  {
   "cell_type": "code",
   "execution_count": 71,
   "metadata": {
    "colab": {
     "base_uri": "https://localhost:8080/"
    },
    "id": "_rSjUhvfWvDT",
    "outputId": "90899ac6-2d0a-4054-fc5e-e95ef00c27d5"
   },
   "outputs": [
    {
     "data": {
      "text/plain": [
       "1    3667\n",
       "0    2123\n",
       "Name: sentiment_by_rating, dtype: int64"
      ]
     },
     "execution_count": 71,
     "metadata": {},
     "output_type": "execute_result"
    }
   ],
   "source": [
    "df['sentiment_by_rating'].value_counts()"
   ]
  },
  {
   "cell_type": "code",
   "execution_count": 72,
   "metadata": {
    "id": "Sj_tK7sibzEa"
   },
   "outputs": [],
   "source": [
    "X = df['cleaned_review']"
   ]
  },
  {
   "cell_type": "code",
   "execution_count": 73,
   "metadata": {
    "id": "sP6u0Ob9b3P1"
   },
   "outputs": [],
   "source": [
    "y= df['sentiment_by_rating']"
   ]
  },
  {
   "cell_type": "code",
   "execution_count": 74,
   "metadata": {
    "id": "vzsSBwv9jKrQ"
   },
   "outputs": [],
   "source": [
    "from sklearn.feature_extraction.text import TfidfVectorizer\n",
    "cv = TfidfVectorizer()"
   ]
  },
  {
   "cell_type": "code",
   "execution_count": 75,
   "metadata": {
    "id": "oy17TU6MnOYX"
   },
   "outputs": [],
   "source": [
    "X = cv.fit_transform(X.values.astype('U'))"
   ]
  },
  {
   "cell_type": "code",
   "execution_count": 76,
   "metadata": {
    "colab": {
     "base_uri": "https://localhost:8080/"
    },
    "id": "qkHSdlxvcMBT",
    "outputId": "2244d98d-f825-48f6-8a0f-5d96a1095d48"
   },
   "outputs": [
    {
     "name": "stdout",
     "output_type": "stream",
     "text": [
      "  (0, 3054)\t0.09117585936580017\n",
      "  (0, 6605)\t0.1253777091751731\n",
      "  (0, 3644)\t0.05429697729771478\n",
      "  (0, 6423)\t0.04162024937858996\n",
      "  (0, 1191)\t0.07454311810391667\n",
      "  (0, 7501)\t0.0717249296226468\n",
      "  (0, 3566)\t0.08343332393591704\n",
      "  (0, 2815)\t0.07502582136081722\n",
      "  (0, 7696)\t0.053539053992950995\n",
      "  (0, 400)\t0.13332918643563804\n",
      "  (0, 4672)\t0.13332918643563804\n",
      "  (0, 5827)\t0.07182439278956229\n",
      "  (0, 1017)\t0.058130526033766845\n",
      "  (0, 3599)\t0.1253777091751731\n",
      "  (0, 1954)\t0.06164541743341954\n",
      "  (0, 513)\t0.13332918643563804\n",
      "  (0, 1297)\t0.06328545212515585\n",
      "  (0, 2146)\t0.10096073942776454\n",
      "  (0, 964)\t0.11175022176372237\n",
      "  (0, 6241)\t0.12885114666840883\n",
      "  (0, 4965)\t0.11806166433245101\n",
      "  (0, 7815)\t0.171386434649155\n",
      "  (0, 5767)\t0.12014020499801971\n",
      "  (0, 6780)\t0.07152788986935683\n",
      "  (0, 5753)\t0.2229217983818726\n",
      "  :\t:\n",
      "  (5777, 5251)\t0.5604448603940264\n",
      "  (5778, 7216)\t0.6806232231323479\n",
      "  (5778, 2746)\t0.640032260070455\n",
      "  (5778, 3138)\t0.32276790266053085\n",
      "  (5778, 7084)\t0.15143188308332486\n",
      "  (5779, 2728)\t0.8296956493397493\n",
      "  (5779, 6352)\t0.5582160240146209\n",
      "  (5780, 3056)\t0.5602321643767743\n",
      "  (5780, 5437)\t0.5379005779382107\n",
      "  (5780, 5251)\t0.629922924056153\n",
      "  (5781, 3056)\t0.45999697561764197\n",
      "  (5781, 5580)\t0.887920482038016\n",
      "  (5782, 4457)\t1.0\n",
      "  (5783, 7730)\t0.8658372479441125\n",
      "  (5783, 5437)\t0.5003257539569248\n",
      "  (5784, 3056)\t1.0\n",
      "  (5785, 2562)\t1.0\n",
      "  (5786, 3056)\t1.0\n",
      "  (5787, 3056)\t1.0\n",
      "  (5788, 1131)\t0.971261113406635\n",
      "  (5788, 3056)\t0.23801649015163584\n",
      "  (5789, 6434)\t0.6937346535877424\n",
      "  (5789, 7463)\t0.596856545910111\n",
      "  (5789, 4054)\t0.3685792374582737\n",
      "  (5789, 5437)\t0.1632294082891443\n"
     ]
    }
   ],
   "source": [
    "print(X)"
   ]
  },
  {
   "cell_type": "code",
   "execution_count": 77,
   "metadata": {
    "colab": {
     "base_uri": "https://localhost:8080/"
    },
    "id": "7U26ny8fdbSP",
    "outputId": "cc9e54ab-daf8-4338-e527-de756bdc403b"
   },
   "outputs": [
    {
     "name": "stdout",
     "output_type": "stream",
     "text": [
      "(5790, 8007) (5790,)\n"
     ]
    }
   ],
   "source": [
    "print(X.shape,y.shape)"
   ]
  },
  {
   "cell_type": "code",
   "execution_count": 78,
   "metadata": {
    "colab": {
     "base_uri": "https://localhost:8080/"
    },
    "id": "gtbx07YgcqLa",
    "outputId": "0ee8d2cc-05f9-4817-dfae-70f544e53f71"
   },
   "outputs": [
    {
     "name": "stdout",
     "output_type": "stream",
     "text": [
      "Before OverSampling, counts of label 'positive': 0\n",
      "Before OverSampling, counts of label 'negative': 0 \n",
      "\n",
      "After OverSampling, the shape of X: (7334, 8007)\n",
      "After OverSampling, the shape of y: (7334,) \n",
      "\n",
      "After OverSampling, counts of label '1': 0\n",
      "After OverSampling, counts of label '0': 0\n"
     ]
    }
   ],
   "source": [
    "#target variable is not balance then use smote oversampling method\n",
    "\n",
    "print(\"Before OverSampling, counts of label 'positive': {}\".format(sum(y == 1)))\n",
    "print(\"Before OverSampling, counts of label 'negative': {} \\n\".format(sum(y == 0)))\n",
    "\n",
    "from imblearn.over_sampling import SMOTE \n",
    "smote = SMOTE()\n",
    "X_scaled, y_scaled = smote.fit_resample(X, y.ravel())\n",
    "\n",
    "print('After OverSampling, the shape of X: {}'.format(X_scaled.shape))\n",
    "print('After OverSampling, the shape of y: {} \\n'.format(y_scaled.shape))\n",
    "  \n",
    "print(\"After OverSampling, counts of label '1': {}\".format(sum(y_scaled == 1)))\n",
    "print(\"After OverSampling, counts of label '0': {}\".format(sum(y_scaled == 0)))\n"
   ]
  },
  {
   "cell_type": "markdown",
   "metadata": {
    "id": "qsSooX0NhpkL"
   },
   "source": [
    "Look! that SMOTE Algorithm has oversampled the minority instances and made it equal to majority class. Both categories have equal amount of records. More specifically, the minority class has been increased to the total number of majority class.\n",
    "Now see the accuracy and recall results after applying SMOTE algorithm (Oversampling)."
   ]
  },
  {
   "cell_type": "code",
   "execution_count": 79,
   "metadata": {
    "colab": {
     "base_uri": "https://localhost:8080/",
     "height": 338
    },
    "id": "pRbUJHorecs6",
    "outputId": "dfe930c4-3fb4-4e6c-8160-1b68f880b9dd"
   },
   "outputs": [
    {
     "data": {
      "text/plain": [
       "<matplotlib.axes._subplots.AxesSubplot at 0x7f835d266c10>"
      ]
     },
     "execution_count": 79,
     "metadata": {},
     "output_type": "execute_result"
    },
    {
     "data": {
      "image/png": "[encoded data removed]",
      "text/plain": [
       "<Figure size 360x360 with 1 Axes>"
      ]
     },
     "metadata": {
      "needs_background": "light"
     },
     "output_type": "display_data"
    }
   ],
   "source": [
    "plt.figure(figsize=(5,5))\n",
    "plt.xticks(rotation=45)\n",
    "sns.countplot(x=y_scaled, data=df)"
   ]
  },
  {
   "cell_type": "code",
   "execution_count": 80,
   "metadata": {
    "colab": {
     "base_uri": "https://localhost:8080/"
    },
    "id": "bN50FwRAgjTU",
    "outputId": "da1c2946-26e3-4348-f309-42db6e8b1c9a"
   },
   "outputs": [
    {
     "name": "stdout",
     "output_type": "stream",
     "text": [
      "Requirement already satisfied: sklearn in /usr/local/lib/python3.7/dist-packages (0.0)\n",
      "Requirement already satisfied: scikit-learn in /usr/local/lib/python3.7/dist-packages (from sklearn) (1.0.2)\n",
      "Requirement already satisfied: threadpoolctl>=2.0.0 in /usr/local/lib/python3.7/dist-packages (from scikit-learn->sklearn) (3.0.0)\n",
      "Requirement already satisfied: scipy>=1.1.0 in /usr/local/lib/python3.7/dist-packages (from scikit-learn->sklearn) (1.4.1)\n",
      "Requirement already satisfied: numpy>=1.14.6 in /usr/local/lib/python3.7/dist-packages (from scikit-learn->sklearn) (1.19.5)\n",
      "Requirement already satisfied: joblib>=0.11 in /usr/local/lib/python3.7/dist-packages (from scikit-learn->sklearn) (1.1.0)\n"
     ]
    }
   ],
   "source": [
    "pip install sklearn"
   ]
  },
  {
   "cell_type": "code",
   "execution_count": 81,
   "metadata": {
    "id": "YvGrSEJFgbYb"
   },
   "outputs": [],
   "source": [
    "from sklearn.model_selection import train_test_split"
   ]
  },
  {
   "cell_type": "code",
   "execution_count": 82,
   "metadata": {
    "id": "JuggSOXfphER"
   },
   "outputs": [],
   "source": [
    "X_train, X_test, y_train, y_test = train_test_split(X,y, test_size = 0.30, random_state = 0)"
   ]
  },
  {
   "cell_type": "code",
   "execution_count": 83,
   "metadata": {
    "id": "TeawQm6hpnuU"
   },
   "outputs": [],
   "source": [
    "from sklearn.linear_model import LogisticRegression\n",
    "from sklearn.metrics import confusion_matrix, classification_report\n",
    "from sklearn.metrics import confusion_matrix\n",
    "from sklearn import preprocessing\n",
    "from sklearn.metrics import accuracy_score"
   ]
  },
  {
   "cell_type": "code",
   "execution_count": 84,
   "metadata": {
    "colab": {
     "base_uri": "https://localhost:8080/"
    },
    "id": "RLxHHvtkpwxA",
    "outputId": "f466eaa4-112c-4891-f4c3-a7dc6b408a2f"
   },
   "outputs": [
    {
     "data": {
      "text/plain": [
       "LogisticRegression()"
      ]
     },
     "execution_count": 84,
     "metadata": {},
     "output_type": "execute_result"
    }
   ],
   "source": [
    "logi = LogisticRegression()\n",
    "logi.fit(X_train, y_train)"
   ]
  },
  {
   "cell_type": "code",
   "execution_count": 85,
   "metadata": {
    "id": "Zs_MueF7p2Ey"
   },
   "outputs": [],
   "source": [
    "y_pred = logi.predict(X_test)"
   ]
  },
  {
   "cell_type": "code",
   "execution_count": 86,
   "metadata": {
    "colab": {
     "base_uri": "https://localhost:8080/"
    },
    "id": "4-8cpRJfH7vv",
    "outputId": "bfe2b634-d381-4cad-d147-dbee812efd7b"
   },
   "outputs": [
    {
     "name": "stdout",
     "output_type": "stream",
     "text": [
      "0.9153713298791019\n",
      "0.8537708693149108\n"
     ]
    }
   ],
   "source": [
    "ytest_pred = logi.predict(X_test)\n",
    "ytrain_pred = logi.predict(X_train)\n",
    "test_acc = accuracy_score(ytest_pred, y_test)\n",
    "train_acc = accuracy_score(ytrain_pred, y_train)\n",
    "print(train_acc)\n",
    "print(test_acc)"
   ]
  },
  {
   "cell_type": "code",
   "execution_count": 87,
   "metadata": {
    "colab": {
     "base_uri": "https://localhost:8080/"
    },
    "id": "mmfRkcZKp4S-",
    "outputId": "4492e80a-67e3-4f49-c73a-0ccd5523deae"
   },
   "outputs": [
    {
     "name": "stdout",
     "output_type": "stream",
     "text": [
      "              precision    recall  f1-score   support\n",
      "\n",
      "           0       0.85      0.73      0.79       637\n",
      "           1       0.86      0.92      0.89      1100\n",
      "\n",
      "    accuracy                           0.85      1737\n",
      "   macro avg       0.85      0.83      0.84      1737\n",
      "weighted avg       0.85      0.85      0.85      1737\n",
      "\n"
     ]
    }
   ],
   "source": [
    "print(classification_report(y_test, y_pred))"
   ]
  },
  {
   "cell_type": "markdown",
   "metadata": {
    "id": "9gbCmpnxusks"
   },
   "source": [
    "## The accuracy comes out to be 96% but did you notice something \n",
    "\n",
    "---\n",
    "\n",
    "strange ? \n",
    "The recall of the minority class in very less(64 percent). It proves that the model is more biased towards majority class. So, it proves that this is not the best model.\n",
    "Now, we will apply different imbalanced data handling techniques and see their accuracy and recall results."
   ]
  },
  {
   "cell_type": "code",
   "execution_count": 88,
   "metadata": {
    "id": "5lenilkQi37i"
   },
   "outputs": [],
   "source": [
    "X_train_scaled, X_test_scaled, y_train_scaled, y_test_scaled = train_test_split(X_scaled,y_scaled, test_size = 0.30, random_state = 0)"
   ]
  },
  {
   "cell_type": "code",
   "execution_count": 89,
   "metadata": {
    "colab": {
     "base_uri": "https://localhost:8080/"
    },
    "id": "qDBUmJnaqeS6",
    "outputId": "11f76389-0f9f-464d-dd0c-47e075b5435f"
   },
   "outputs": [
    {
     "name": "stdout",
     "output_type": "stream",
     "text": [
      "              precision    recall  f1-score   support\n",
      "\n",
      "           0       0.84      0.91      0.88      1115\n",
      "           1       0.90      0.83      0.86      1086\n",
      "\n",
      "    accuracy                           0.87      2201\n",
      "   macro avg       0.87      0.87      0.87      2201\n",
      "weighted avg       0.87      0.87      0.87      2201\n",
      "\n",
      "test Accuracy : 0.8686960472512494\n",
      "train accuracy: 0.9236314046366647\n"
     ]
    }
   ],
   "source": [
    "logi_scaled = LogisticRegression()\n",
    "logi_scaled.fit(X_train_scaled, y_train_scaled)\n",
    "predictions = logi_scaled.predict(X_test_scaled)\n",
    "  \n",
    "# print classification report\n",
    "print(classification_report(y_test_scaled, predictions))\n",
    "\n",
    "# accuracy score\n",
    "ytest_pred = logi_scaled.predict(X_test_scaled)\n",
    "ytrain_pred = logi_scaled.predict(X_train_scaled)\n",
    "print(\"test Accuracy :\", accuracy_score(ytest_pred, y_test_scaled))\n",
    "print(\"train accuracy:\", accuracy_score(ytrain_pred, y_train_scaled))"
   ]
  },
  {
   "cell_type": "markdown",
   "metadata": {
    "id": "uFcHbr-lvyrr"
   },
   "source": [
    "Wow, minority class has improved to 98 %. This is a good model compared to the previous one. Recall is great."
   ]
  },
  {
   "cell_type": "markdown",
   "metadata": {
    "id": "WaA5uG2Xj-B-"
   },
   "source": [
    "## Bernauli Naive Bayes"
   ]
  },
  {
   "cell_type": "code",
   "execution_count": 90,
   "metadata": {
    "id": "9q-Pqi_Xj_5E"
   },
   "outputs": [],
   "source": [
    "from sklearn.naive_bayes import BernoulliNB"
   ]
  },
  {
   "cell_type": "code",
   "execution_count": 91,
   "metadata": {
    "id": "RW8cKjsXkEyT"
   },
   "outputs": [],
   "source": [
    "bnb = BernoulliNB()"
   ]
  },
  {
   "cell_type": "code",
   "execution_count": 92,
   "metadata": {
    "colab": {
     "base_uri": "https://localhost:8080/"
    },
    "id": "xIHqJJsbltGh",
    "outputId": "849b980e-886a-4fa8-dc80-4877326ae1d5"
   },
   "outputs": [
    {
     "data": {
      "text/plain": [
       "BernoulliNB()"
      ]
     },
     "execution_count": 92,
     "metadata": {},
     "output_type": "execute_result"
    }
   ],
   "source": [
    "bnb.fit(X_train, y_train)"
   ]
  },
  {
   "cell_type": "code",
   "execution_count": 93,
   "metadata": {
    "id": "MGIWsBwOmrNy"
   },
   "outputs": [],
   "source": [
    "y_pred = bnb.predict(X_test)"
   ]
  },
  {
   "cell_type": "code",
   "execution_count": 94,
   "metadata": {
    "colab": {
     "base_uri": "https://localhost:8080/"
    },
    "id": "VMnCpF3cm5Pv",
    "outputId": "fba4dbc9-738e-4094-aa84-e0722288920f"
   },
   "outputs": [
    {
     "name": "stdout",
     "output_type": "stream",
     "text": [
      "              precision    recall  f1-score   support\n",
      "\n",
      "           0       0.81      0.56      0.66       637\n",
      "           1       0.78      0.92      0.85      1100\n",
      "\n",
      "    accuracy                           0.79      1737\n",
      "   macro avg       0.79      0.74      0.75      1737\n",
      "weighted avg       0.79      0.79      0.78      1737\n",
      "\n",
      "test Accuracy : 0.788140472078296\n",
      "train accuracy: 0.8238341968911918\n"
     ]
    }
   ],
   "source": [
    "print(classification_report(y_test, y_pred))\n",
    "# accuracy score\n",
    "ytest_pred = bnb.predict(X_test)\n",
    "ytrain_pred = bnb.predict(X_train)\n",
    "print(\"test Accuracy :\", accuracy_score(ytest_pred, y_test))\n",
    "print(\"train accuracy:\", accuracy_score(ytrain_pred, y_train))"
   ]
  },
  {
   "cell_type": "code",
   "execution_count": 95,
   "metadata": {
    "colab": {
     "base_uri": "https://localhost:8080/"
    },
    "id": "zU3huk0qm8ev",
    "outputId": "2e2b9015-5a61-4e0e-e17d-d53a94211de0"
   },
   "outputs": [
    {
     "name": "stdout",
     "output_type": "stream",
     "text": [
      "              precision    recall  f1-score   support\n",
      "\n",
      "           0       0.89      0.64      0.74      1115\n",
      "           1       0.71      0.92      0.80      1086\n",
      "\n",
      "    accuracy                           0.77      2201\n",
      "   macro avg       0.80      0.78      0.77      2201\n",
      "weighted avg       0.80      0.77      0.77      2201\n",
      "\n",
      "test Accuracy : 0.7737392094502499\n",
      "train accuracy: 0.8065458796025716\n"
     ]
    }
   ],
   "source": [
    "bnb_scaled = BernoulliNB()\n",
    "bnb_scaled.fit(X_train_scaled, y_train_scaled)\n",
    "predictions = bnb_scaled.predict(X_test_scaled)\n",
    "  \n",
    "# print classification report\n",
    "print(classification_report(y_test_scaled, predictions))\n",
    "# accuracy score\n",
    "ytest_pred = bnb_scaled.predict(X_test_scaled)\n",
    "ytrain_pred = bnb_scaled.predict(X_train_scaled)\n",
    "print(\"test Accuracy :\", accuracy_score(ytest_pred, y_test_scaled))\n",
    "print(\"train accuracy:\", accuracy_score(ytrain_pred, y_train_scaled))"
   ]
  },
  {
   "cell_type": "markdown",
   "metadata": {
    "id": "9pIPWdRlqOUF"
   },
   "source": [
    "# Naive Bayes classifier for multinomial models"
   ]
  },
  {
   "cell_type": "code",
   "execution_count": 96,
   "metadata": {
    "id": "Se9V54rDqgm8"
   },
   "outputs": [],
   "source": [
    "from sklearn.naive_bayes import MultinomialNB"
   ]
  },
  {
   "cell_type": "code",
   "execution_count": 97,
   "metadata": {
    "colab": {
     "base_uri": "https://localhost:8080/"
    },
    "id": "i8x_PWdkphFI",
    "outputId": "6ab3a295-b97a-40f8-d02d-629d2deae23e"
   },
   "outputs": [
    {
     "name": "stdout",
     "output_type": "stream",
     "text": [
      "              precision    recall  f1-score   support\n",
      "\n",
      "           0       0.88      0.64      0.74       637\n",
      "           1       0.82      0.95      0.88      1100\n",
      "\n",
      "    accuracy                           0.83      1737\n",
      "   macro avg       0.85      0.79      0.81      1737\n",
      "weighted avg       0.84      0.83      0.83      1737\n",
      "\n",
      "test Accuracy : 0.8336211859527922\n",
      "train accuracy: 0.8874907475943745\n"
     ]
    }
   ],
   "source": [
    "mnb = MultinomialNB()\n",
    "mnb.fit(X_train, y_train)\n",
    "predictions = mnb.predict(X_test)\n",
    "\n",
    "# print classification report\n",
    "print(classification_report(y_test, predictions))\n",
    "# accuracy score\n",
    "ytest_pred = mnb.predict(X_test)\n",
    "ytrain_pred = mnb.predict(X_train)\n",
    "print(\"test Accuracy :\", accuracy_score(ytest_pred, y_test))\n",
    "print(\"train accuracy:\", accuracy_score(ytrain_pred, y_train))"
   ]
  },
  {
   "cell_type": "code",
   "execution_count": 98,
   "metadata": {
    "colab": {
     "base_uri": "https://localhost:8080/"
    },
    "id": "nOB1tETorKdm",
    "outputId": "888625a0-4006-4883-b6fc-81aeb22e7c57"
   },
   "outputs": [
    {
     "name": "stdout",
     "output_type": "stream",
     "text": [
      "              precision    recall  f1-score   support\n",
      "\n",
      "           0       0.84      0.90      0.87      1115\n",
      "           1       0.89      0.82      0.85      1086\n",
      "\n",
      "    accuracy                           0.86      2201\n",
      "   macro avg       0.86      0.86      0.86      2201\n",
      "weighted avg       0.86      0.86      0.86      2201\n",
      "\n",
      "test Accuracy : 0.8614266242616992\n",
      "train accuracy: 0.9086304305474382\n"
     ]
    }
   ],
   "source": [
    "mnb_scaled = MultinomialNB()\n",
    "mnb_scaled.fit(X_train_scaled, y_train_scaled)\n",
    "predictions = mnb_scaled.predict(X_test_scaled)\n",
    "\n",
    "# print classification report\n",
    "print(classification_report(y_test_scaled, predictions))\n",
    "# accuracy score\n",
    "ytest_pred = mnb_scaled.predict(X_test_scaled)\n",
    "ytrain_pred = mnb_scaled.predict(X_train_scaled)\n",
    "print(\"test Accuracy :\", accuracy_score(ytest_pred, y_test_scaled))\n",
    "print(\"train accuracy:\", accuracy_score(ytrain_pred, y_train_scaled))"
   ]
  },
  {
   "cell_type": "markdown",
   "metadata": {
    "id": "LSBG4GVEnqXu"
   },
   "source": [
    "# k-nearest neighbors"
   ]
  },
  {
   "cell_type": "code",
   "execution_count": 99,
   "metadata": {
    "id": "uSmxR5bPnsn5"
   },
   "outputs": [],
   "source": [
    "from sklearn.neighbors import KNeighborsClassifier"
   ]
  },
  {
   "cell_type": "code",
   "execution_count": 100,
   "metadata": {
    "colab": {
     "base_uri": "https://localhost:8080/"
    },
    "id": "sIClHP9rn4XF",
    "outputId": "65f33f33-5466-4cfc-c408-d31bd7bb5d33"
   },
   "outputs": [
    {
     "name": "stdout",
     "output_type": "stream",
     "text": [
      "              precision    recall  f1-score   support\n",
      "\n",
      "           0       0.81      0.56      0.66       637\n",
      "           1       0.78      0.92      0.85      1100\n",
      "\n",
      "    accuracy                           0.79      1737\n",
      "   macro avg       0.79      0.74      0.75      1737\n",
      "weighted avg       0.79      0.79      0.78      1737\n",
      "\n",
      "test Accuracy : 0.6574553828439839\n",
      "train accuracy: 0.8122378485072785\n"
     ]
    }
   ],
   "source": [
    "neigh = KNeighborsClassifier(n_neighbors=3)\n",
    "neigh.fit(X_train, y_train)\n",
    "predictions = bnb.predict(X_test)\n",
    "print(classification_report(y_test, predictions))\n",
    "# accuracy score\n",
    "ytest_pred = neigh.predict(X_test)\n",
    "ytrain_pred = neigh.predict(X_train)\n",
    "print(\"test Accuracy :\", accuracy_score(ytest_pred, y_test))\n",
    "print(\"train accuracy:\", accuracy_score(ytrain_pred, y_train))"
   ]
  },
  {
   "cell_type": "code",
   "execution_count": 101,
   "metadata": {
    "colab": {
     "base_uri": "https://localhost:8080/"
    },
    "id": "Au5WxWfDocHH",
    "outputId": "9e78a1c4-af54-4c37-8269-7a80c9c3d52c"
   },
   "outputs": [
    {
     "name": "stdout",
     "output_type": "stream",
     "text": [
      "              precision    recall  f1-score   support\n",
      "\n",
      "           0       0.89      0.64      0.74      1115\n",
      "           1       0.71      0.92      0.80      1086\n",
      "\n",
      "    accuracy                           0.77      2201\n",
      "   macro avg       0.80      0.78      0.77      2201\n",
      "weighted avg       0.80      0.77      0.77      2201\n",
      "\n",
      "test Accuracy : 0.6665152203543844\n",
      "train accuracy: 0.824274303526203\n"
     ]
    }
   ],
   "source": [
    "neigh_scaled = KNeighborsClassifier(n_neighbors=3)\n",
    "neigh_scaled.fit(X_train_scaled, y_train_scaled)\n",
    "predictions = bnb_scaled.predict(X_test_scaled)\n",
    "print(classification_report(y_test_scaled, predictions))\n",
    "# accuracy score\n",
    "ytest_pred = neigh_scaled.predict(X_test_scaled)\n",
    "ytrain_pred = neigh_scaled.predict(X_train_scaled)\n",
    "print(\"test Accuracy :\", accuracy_score(ytest_pred, y_test_scaled))\n",
    "print(\"train accuracy:\", accuracy_score(ytrain_pred, y_train_scaled))"
   ]
  },
  {
   "cell_type": "markdown",
   "metadata": {
    "id": "xpRtJh24oyUx"
   },
   "source": [
    "## Support Vector Machine"
   ]
  },
  {
   "cell_type": "code",
   "execution_count": 102,
   "metadata": {
    "id": "x4Af9a6kpLLa"
   },
   "outputs": [],
   "source": [
    "from sklearn import svm"
   ]
  },
  {
   "cell_type": "code",
   "execution_count": 103,
   "metadata": {
    "colab": {
     "base_uri": "https://localhost:8080/"
    },
    "id": "6OUK0l1ZpSAE",
    "outputId": "0bff13c0-0447-4f9d-bb54-803351c4bc1a"
   },
   "outputs": [
    {
     "name": "stdout",
     "output_type": "stream",
     "text": [
      "              precision    recall  f1-score   support\n",
      "\n",
      "           0       0.88      0.81      0.85       637\n",
      "           1       0.90      0.94      0.92      1100\n",
      "\n",
      "    accuracy                           0.89      1737\n",
      "   macro avg       0.89      0.87      0.88      1737\n",
      "weighted avg       0.89      0.89      0.89      1737\n",
      "\n",
      "test Accuracy : 0.8917674150834772\n",
      "train accuracy: 0.9834690352825067\n"
     ]
    }
   ],
   "source": [
    "svm_model = svm.SVC()\n",
    "svm_model.fit(X_train, y_train)\n",
    "predictions = svm_model.predict(X_test)\n",
    "print(classification_report(y_test, predictions))\n",
    "# accuracy score\n",
    "ytest_pred = svm_model.predict(X_test)\n",
    "ytrain_pred = svm_model.predict(X_train)\n",
    "print(\"test Accuracy :\", accuracy_score(ytest_pred, y_test))\n",
    "print(\"train accuracy:\", accuracy_score(ytrain_pred, y_train))"
   ]
  },
  {
   "cell_type": "code",
   "execution_count": 104,
   "metadata": {
    "colab": {
     "base_uri": "https://localhost:8080/"
    },
    "id": "USjku8umsu6J",
    "outputId": "5ae7c0de-3222-4b81-9ada-77f0130b2e81"
   },
   "outputs": [
    {
     "name": "stdout",
     "output_type": "stream",
     "text": [
      "              precision    recall  f1-score   support\n",
      "\n",
      "           0       0.91      0.93      0.92      1115\n",
      "           1       0.92      0.91      0.92      1086\n",
      "\n",
      "    accuracy                           0.92      2201\n",
      "   macro avg       0.92      0.92      0.92      2201\n",
      "weighted avg       0.92      0.92      0.92      2201\n",
      "\n",
      "test Accuracy : 0.9177646524307133\n",
      "train accuracy: 0.9840249366842003\n"
     ]
    }
   ],
   "source": [
    "svm_model_scaled = svm.SVC()\n",
    "svm_model_scaled.fit(X_train_scaled, y_train_scaled)\n",
    "predictions = svm_model_scaled.predict(X_test_scaled)\n",
    "print(classification_report(y_test_scaled, predictions))\n",
    "# accuracy score\n",
    "ytest_pred = svm_model_scaled.predict(X_test_scaled)\n",
    "ytrain_pred = svm_model_scaled.predict(X_train_scaled)\n",
    "print(\"test Accuracy :\", accuracy_score(ytest_pred, y_test_scaled))\n",
    "print(\"train accuracy:\", accuracy_score(ytrain_pred, y_train_scaled))"
   ]
  },
  {
   "cell_type": "markdown",
   "metadata": {
    "id": "MqXN0QGXuM-9"
   },
   "source": [
    "# Decision Tree Classifier"
   ]
  },
  {
   "cell_type": "code",
   "execution_count": 105,
   "metadata": {
    "id": "IcXeX7tJuXqd"
   },
   "outputs": [],
   "source": [
    "from sklearn.tree import DecisionTreeClassifier"
   ]
  },
  {
   "cell_type": "code",
   "execution_count": 106,
   "metadata": {
    "colab": {
     "base_uri": "https://localhost:8080/"
    },
    "id": "Yfnz2d_auRgu",
    "outputId": "97c4e557-902c-4369-85e7-968c7f945cf1"
   },
   "outputs": [
    {
     "name": "stdout",
     "output_type": "stream",
     "text": [
      "              precision    recall  f1-score   support\n",
      "\n",
      "           0       0.82      0.79      0.80       637\n",
      "           1       0.88      0.90      0.89      1100\n",
      "\n",
      "    accuracy                           0.86      1737\n",
      "   macro avg       0.85      0.84      0.85      1737\n",
      "weighted avg       0.86      0.86      0.86      1737\n",
      "\n",
      "test Accuracy : 0.8578008059873344\n",
      "train accuracy: 0.994325191216383\n"
     ]
    }
   ],
   "source": [
    "d_classi = DecisionTreeClassifier(random_state=2)\n",
    "d_classi.fit(X_train, y_train)\n",
    "predictions = d_classi.predict(X_test)\n",
    "print(classification_report(y_test, predictions))\n",
    "# accuracy score\n",
    "ytest_pred = d_classi.predict(X_test)\n",
    "ytrain_pred = d_classi.predict(X_train)\n",
    "print(\"test Accuracy :\", accuracy_score(ytest_pred, y_test))\n",
    "print(\"train accuracy:\", accuracy_score(ytrain_pred, y_train))"
   ]
  },
  {
   "cell_type": "code",
   "execution_count": 107,
   "metadata": {
    "colab": {
     "base_uri": "https://localhost:8080/"
    },
    "id": "GnXKEwVXxEqL",
    "outputId": "6c3bd710-1460-45c9-fb73-7ebd2a26b584"
   },
   "outputs": [
    {
     "name": "stdout",
     "output_type": "stream",
     "text": [
      "              precision    recall  f1-score   support\n",
      "\n",
      "           0       0.87      0.89      0.88      1115\n",
      "           1       0.88      0.87      0.87      1086\n",
      "\n",
      "    accuracy                           0.88      2201\n",
      "   macro avg       0.88      0.88      0.88      2201\n",
      "weighted avg       0.88      0.88      0.88      2201\n",
      "\n",
      "test Accuracy : 0.8759654702407996\n",
      "train accuracy: 0.9933761932593026\n"
     ]
    }
   ],
   "source": [
    "d_classi_scaled = DecisionTreeClassifier(random_state=2)\n",
    "d_classi_scaled.fit(X_train_scaled, y_train_scaled)\n",
    "predictions = d_classi_scaled.predict(X_test_scaled)\n",
    "print(classification_report(y_test_scaled, predictions))\n",
    "# accuracy score\n",
    "ytest_pred = d_classi_scaled.predict(X_test_scaled)\n",
    "ytrain_pred = d_classi_scaled.predict(X_train_scaled)\n",
    "print(\"test Accuracy :\", accuracy_score(ytest_pred, y_test_scaled))\n",
    "print(\"train accuracy:\", accuracy_score(ytrain_pred, y_train_scaled))"
   ]
  },
  {
   "cell_type": "markdown",
   "metadata": {
    "id": "GppNSDJIzOWX"
   },
   "source": [
    "## Extra Tree Classifier"
   ]
  },
  {
   "cell_type": "code",
   "execution_count": 108,
   "metadata": {
    "id": "E4j46FqozTmT"
   },
   "outputs": [],
   "source": [
    "from sklearn.ensemble import RandomForestClassifier, ExtraTreesClassifier"
   ]
  },
  {
   "cell_type": "code",
   "execution_count": 109,
   "metadata": {
    "colab": {
     "base_uri": "https://localhost:8080/"
    },
    "id": "PenClNpIzWAN",
    "outputId": "dcd233ca-010e-4fc4-eab5-79cc5be4c945"
   },
   "outputs": [
    {
     "name": "stdout",
     "output_type": "stream",
     "text": [
      "              precision    recall  f1-score   support\n",
      "\n",
      "           0       0.88      0.80      0.84       637\n",
      "           1       0.89      0.94      0.91      1100\n",
      "\n",
      "    accuracy                           0.89      1737\n",
      "   macro avg       0.89      0.87      0.88      1737\n",
      "weighted avg       0.89      0.89      0.89      1737\n",
      "\n",
      "test Accuracy : 0.8877374784110535\n",
      "train accuracy: 0.994325191216383\n"
     ]
    }
   ],
   "source": [
    "et_classi = ExtraTreesClassifier(random_state=2)\n",
    "et_classi.fit(X_train, y_train)\n",
    "predictions = et_classi.predict(X_test)\n",
    "print(classification_report(y_test, predictions))\n",
    "# accuracy score\n",
    "ytest_pred = et_classi.predict(X_test)\n",
    "ytrain_pred = et_classi.predict(X_train)\n",
    "print(\"test Accuracy :\", accuracy_score(ytest_pred, y_test))\n",
    "print(\"train accuracy:\", accuracy_score(ytrain_pred, y_train))"
   ]
  },
  {
   "cell_type": "code",
   "execution_count": 110,
   "metadata": {
    "colab": {
     "base_uri": "https://localhost:8080/"
    },
    "id": "CEiU8c4q0ahD",
    "outputId": "0f8b1d2d-7a21-475f-c4ee-b5391016c174"
   },
   "outputs": [
    {
     "name": "stdout",
     "output_type": "stream",
     "text": [
      "              precision    recall  f1-score   support\n",
      "\n",
      "           0       0.88      0.94      0.91      1115\n",
      "           1       0.93      0.87      0.90      1086\n",
      "\n",
      "    accuracy                           0.90      2201\n",
      "   macro avg       0.91      0.90      0.90      2201\n",
      "weighted avg       0.91      0.90      0.90      2201\n",
      "\n",
      "test Accuracy : 0.9045888232621536\n",
      "train accuracy: 0.9933761932593026\n"
     ]
    }
   ],
   "source": [
    "et_classi_scaled = ExtraTreesClassifier(random_state=2)\n",
    "et_classi_scaled.fit(X_train_scaled, y_train_scaled)\n",
    "predictions = et_classi_scaled.predict(X_test_scaled)\n",
    "print(classification_report(y_test_scaled, predictions))\n",
    "# accuracy score\n",
    "ytest_pred = et_classi_scaled.predict(X_test_scaled)\n",
    "ytrain_pred = et_classi_scaled.predict(X_train_scaled)\n",
    "print(\"test Accuracy :\", accuracy_score(ytest_pred, y_test_scaled))\n",
    "print(\"train accuracy:\", accuracy_score(ytrain_pred, y_train_scaled))"
   ]
  },
  {
   "cell_type": "markdown",
   "metadata": {
    "id": "97Mbk5qp08g3"
   },
   "source": [
    "# Random Forest Classifier"
   ]
  },
  {
   "cell_type": "code",
   "execution_count": 111,
   "metadata": {
    "colab": {
     "base_uri": "https://localhost:8080/"
    },
    "id": "KkwJbJB41YqP",
    "outputId": "bfc3b645-b2ef-44f6-e9ec-6a846a043241"
   },
   "outputs": [
    {
     "name": "stdout",
     "output_type": "stream",
     "text": [
      "              precision    recall  f1-score   support\n",
      "\n",
      "           0       0.89      0.80      0.84       637\n",
      "           1       0.89      0.94      0.92      1100\n",
      "\n",
      "    accuracy                           0.89      1737\n",
      "   macro avg       0.89      0.87      0.88      1737\n",
      "weighted avg       0.89      0.89      0.89      1737\n",
      "\n",
      "test Accuracy : 0.8917674150834772\n",
      "train accuracy: 0.994325191216383\n"
     ]
    }
   ],
   "source": [
    "rfc = RandomForestClassifier(random_state=2)\n",
    "rfc.fit(X_train, y_train)\n",
    "predictions = rfc.predict(X_test)\n",
    "print(classification_report(y_test, predictions))\n",
    "# accuracy score\n",
    "ytest_pred = rfc.predict(X_test)\n",
    "ytrain_pred = rfc.predict(X_train)\n",
    "print(\"test Accuracy :\", accuracy_score(ytest_pred, y_test))\n",
    "print(\"train accuracy:\", accuracy_score(ytrain_pred, y_train))"
   ]
  },
  {
   "cell_type": "code",
   "execution_count": 112,
   "metadata": {
    "colab": {
     "base_uri": "https://localhost:8080/"
    },
    "id": "YRZtfw2S1xGE",
    "outputId": "0b709c2a-d4fa-4b00-a66d-f0e3947cd872"
   },
   "outputs": [
    {
     "name": "stdout",
     "output_type": "stream",
     "text": [
      "              precision    recall  f1-score   support\n",
      "\n",
      "           0       0.89      0.93      0.91      1115\n",
      "           1       0.93      0.88      0.90      1086\n",
      "\n",
      "    accuracy                           0.91      2201\n",
      "   macro avg       0.91      0.91      0.91      2201\n",
      "weighted avg       0.91      0.91      0.91      2201\n",
      "\n",
      "test Accuracy : 0.9077691958200818\n",
      "train accuracy: 0.9933761932593026\n"
     ]
    }
   ],
   "source": [
    "rfc_scaled = RandomForestClassifier(random_state=2)\n",
    "rfc_scaled.fit(X_train_scaled, y_train_scaled)\n",
    "predictions = rfc_scaled.predict(X_test_scaled)\n",
    "print(classification_report(y_test_scaled, predictions))\n",
    "# accuracy score\n",
    "ytest_pred = rfc_scaled.predict(X_test_scaled)\n",
    "ytrain_pred = rfc_scaled.predict(X_train_scaled)\n",
    "print(\"test Accuracy :\", accuracy_score(ytest_pred, y_test_scaled))\n",
    "print(\"train accuracy:\", accuracy_score(ytrain_pred, y_train_scaled))"
   ]
  },
  {
   "cell_type": "markdown",
   "metadata": {
    "id": "zcp3Onx23INm"
   },
   "source": [
    "## XG Boost Classifier"
   ]
  },
  {
   "cell_type": "code",
   "execution_count": 113,
   "metadata": {
    "id": "z6L0u4cM3Lrt"
   },
   "outputs": [],
   "source": [
    "#!pip install xgboost\n",
    "import xgboost\n",
    "from xgboost import XGBClassifier"
   ]
  },
  {
   "cell_type": "code",
   "execution_count": 114,
   "metadata": {
    "colab": {
     "base_uri": "https://localhost:8080/"
    },
    "id": "Zl2UO6ct3OQO",
    "outputId": "86fe290d-5ac8-4c3a-9759-dad23b11fbf8"
   },
   "outputs": [
    {
     "name": "stdout",
     "output_type": "stream",
     "text": [
      "              precision    recall  f1-score   support\n",
      "\n",
      "           0       0.82      0.67      0.74       637\n",
      "           1       0.83      0.91      0.87      1100\n",
      "\n",
      "    accuracy                           0.82      1737\n",
      "   macro avg       0.82      0.79      0.80      1737\n",
      "weighted avg       0.82      0.82      0.82      1737\n",
      "\n",
      "test Accuracy : 0.823258491652274\n",
      "train accuracy: 0.8559092030594622\n"
     ]
    }
   ],
   "source": [
    "xgboost_classi = XGBClassifier(eval_metric='mlogloss',random_state=2)\n",
    "xgboost_classi.fit(X_train, y_train)\n",
    "predictions = xgboost_classi.predict(X_test)\n",
    "print(classification_report(y_test, predictions))\n",
    "# accuracy score\n",
    "ytest_pred = xgboost_classi.predict(X_test)\n",
    "ytrain_pred = xgboost_classi.predict(X_train)\n",
    "print(\"test Accuracy :\", accuracy_score(ytest_pred, y_test))\n",
    "print(\"train accuracy:\", accuracy_score(ytrain_pred, y_train))"
   ]
  },
  {
   "cell_type": "code",
   "execution_count": 115,
   "metadata": {
    "colab": {
     "base_uri": "https://localhost:8080/"
    },
    "id": "H7_gAcq_4HcW",
    "outputId": "0dcece3b-97c8-467d-bd29-7a1d9b447234"
   },
   "outputs": [
    {
     "name": "stdout",
     "output_type": "stream",
     "text": [
      "              precision    recall  f1-score   support\n",
      "\n",
      "           0       0.84      0.83      0.83      1115\n",
      "           1       0.83      0.83      0.83      1086\n",
      "\n",
      "    accuracy                           0.83      2201\n",
      "   macro avg       0.83      0.83      0.83      2201\n",
      "weighted avg       0.83      0.83      0.83      2201\n",
      "\n",
      "test Accuracy : 0.8318945933666515\n",
      "train accuracy: 0.8671342294954217\n"
     ]
    }
   ],
   "source": [
    "xgboost_classi_scaled = XGBClassifier(eval_metric='mlogloss',random_state=2)\n",
    "xgboost_classi_scaled.fit(X_train_scaled, y_train_scaled)\n",
    "predictions = xgboost_classi_scaled.predict(X_test_scaled)\n",
    "print(classification_report(y_test_scaled, predictions))\n",
    "# accuracy score\n",
    "ytest_pred = xgboost_classi_scaled.predict(X_test_scaled)\n",
    "ytrain_pred = xgboost_classi_scaled.predict(X_train_scaled)\n",
    "print(\"test Accuracy :\", accuracy_score(ytest_pred, y_test_scaled))\n",
    "print(\"train accuracy:\", accuracy_score(ytrain_pred, y_train_scaled))"
   ]
  },
  {
   "cell_type": "code",
   "execution_count": 124,
   "metadata": {
    "id": "Vbz7sOX34sR6"
   },
   "outputs": [],
   "source": [
    "import pickle\n",
    "pickle.dump(cv,open('tfidf.pkl','wb'))\n",
    "pickle.dump(xgboost_classi_scaled,open('model_xg_boost_with_smote.pkl','wb'))\n",
    "pickle.dump(rfc_scaled,open('model_random_forest.pkl','wb'))"
   ]
  },
  {
   "cell_type": "code",
   "execution_count": 117,
   "metadata": {
    "id": "UPMiPwASVt_2"
   },
   "outputs": [],
   "source": [
    "import string\n",
    "from nltk.corpus import stopwords\n",
    "import nltk\n",
    "from nltk.stem.porter import PorterStemmer\n",
    "import os\n",
    "import time\n",
    "from nltk.stem import WordNetLemmatizer"
   ]
  },
  {
   "cell_type": "code",
   "execution_count": 118,
   "metadata": {
    "colab": {
     "base_uri": "https://localhost:8080/"
    },
    "id": "9eAuDWr7YVcI",
    "outputId": "91b205fc-429f-4d84-bc0c-9406bfcf4ed3"
   },
   "outputs": [
    {
     "name": "stdout",
     "output_type": "stream",
     "text": [
      "[nltk_data] Downloading package punkt to /root/nltk_data...\n",
      "[nltk_data]   Package punkt is already up-to-date!\n",
      "[nltk_data] Downloading package stopwords to /root/nltk_data...\n",
      "[nltk_data]   Package stopwords is already up-to-date!\n",
      "[nltk_data] Downloading package wordnet to /root/nltk_data...\n",
      "[nltk_data]   Package wordnet is already up-to-date!\n"
     ]
    },
    {
     "data": {
      "text/plain": [
       "True"
      ]
     },
     "execution_count": 118,
     "metadata": {},
     "output_type": "execute_result"
    }
   ],
   "source": [
    "import nltk\n",
    "nltk.download('punkt')\n",
    "nltk.download('stopwords')\n",
    "nltk.download('wordnet')"
   ]
  },
  {
   "cell_type": "code",
   "execution_count": 119,
   "metadata": {
    "colab": {
     "base_uri": "https://localhost:8080/"
    },
    "id": "5RCCmk16WlIv",
    "outputId": "30581b60-f60b-46fa-c07d-71ffe37652bb"
   },
   "outputs": [
    {
     "name": "stdout",
     "output_type": "stream",
     "text": [
      "['I', 'brought', 'TV', 'begining', 'Feb', '21', ',', 'tv', 'faced', 'display', 'issue', '1', 'half', 'month', 'i.e', '15th', 'april.The', 'display', 'went', ',', 'though', 'sound', 'there.Contacted', 'amazon', 'claimed', 'warranty', 'repair', 'services.The', 'technician', 'came', '16th', ',', 'went', 'away', 'switching', 'tv', 'looking', 'black', 'screen', ',', 'saying', 'TV', 'get', 'replaced', 'company', '.']\n"
     ]
    }
   ],
   "source": [
    "p = \"I brought this TV at the begining of Feb 21, and the tv faced a display issue just after 1 and half months i.e on 15th april.The display went off, all though the sound was there.Contacted amazon and claimed for warranty and repair services.The technicians came in on 16th, and went away just by switching on the tv and looking at the black screen, saying that the TV will get replaced by the company.\"\n",
    "lemmatizer = WordNetLemmatizer()\n",
    "sentences = nltk.sent_tokenize(p)\n",
    "# Lemmatization\n",
    "\n",
    "for i in range(len(sentences)):\n",
    "    words = nltk.word_tokenize(sentences[i])\n",
    "    words = [lemmatizer.lemmatize(word) for word in words if word not in set(stopwords.words('english'))]\n",
    "    sentences[i] = ' '.join(words)  \n",
    "    \n",
    "print(words)"
   ]
  },
  {
   "cell_type": "code",
   "execution_count": 120,
   "metadata": {
    "id": "PoAis_8EVFn_"
   },
   "outputs": [],
   "source": [
    "def transform_text(text):\n",
    "    text = text.lower()\n",
    "    text = nltk.word_tokenize(text)\n",
    "\n",
    "    y = []\n",
    "    for i in text:\n",
    "        if i.isalnum():\n",
    "            y.append(i)\n",
    "\n",
    "    text = y[:]\n",
    "    y.clear()\n",
    "\n",
    "    for i in text:\n",
    "        if i not in stopwords.words('english') and i not in string.punctuation:\n",
    "            y.append(i)\n",
    "\n",
    "    text = y[:]\n",
    "    y.clear()\n",
    "\n",
    "    for i in text:\n",
    "        y.append(ps.stem(i))\n",
    "\n",
    "    return \" \".join(y)"
   ]
  },
  {
   "cell_type": "code",
   "execution_count": 135,
   "metadata": {
    "colab": {
     "base_uri": "https://localhost:8080/"
    },
    "id": "qJU7Wz7OTZAP",
    "outputId": "1443cc2d-8123-45ac-9759-0cfaec933084"
   },
   "outputs": [
    {
     "name": "stdout",
     "output_type": "stream",
     "text": [
      "['0'] ['0']\n"
     ]
    }
   ],
   "source": [
    "p = cv.transform([\"ere is my experience with the Oneplus LAGGY tv32Y model.Here is a list of issues with your product.1. connected to Samsung mobile through google home as the tv isn't connecting through Samsung smart view. always says unable to connect, try again. And even through the google home, it is struggling too much to even cast the photos and forget about casting the videos.2. Neither windows nor Mac is recognising The tv in wireless mode\"])\n",
    "predictions_xg_boost = xgboost_classi_scaled.predict(p)\n",
    "predictions_random_forest = rfc.predict(p)\n",
    "print(predictions_xg_boost,predictions_random_forest)"
   ]
  },
  {
   "cell_type": "code",
   "execution_count": 137,
   "metadata": {
    "colab": {
     "base_uri": "https://localhost:8080/"
    },
    "id": "pc6Ka7Pf4xOQ",
    "outputId": "46891775-119a-4095-9574-edd76153fc47"
   },
   "outputs": [
    {
     "name": "stdout",
     "output_type": "stream",
     "text": [
      "['1'] ['1']\n"
     ]
    }
   ],
   "source": [
    "p = cv.transform([\"1. Picture quality is good. Look & Feel is good. I would quote Best in this segment TVs.I have explored most of the well noted brands in this price segment.2. Sound is 3/5. With Dolby Digital Plus enabled, it is better.3. TV build quality is good, Viewing Angles are good too.4. 4K Videos will be reset to 1080p and this is the maximum resolution for any video.5. Only 4.6GB memory is available out of 8GB.6. Oxygen Play is useless.7. There is bloatware instead of oneplus clean software motto.8. Accessing Tv with Oneplus connect App is 1 out of 5. Its a disaster.9. Wall Mount is free. It will be brought by installation provider, do not shell extra bucks for wall mount or installation.\"])\n",
    "predictions_xg_boost = xgboost_classi_scaled.predict(p)\n",
    "predictions_random_forest = rfc.predict(p)\n",
    "print(predictions_xg_boost,predictions_random_forest)"
   ]
  },
  {
   "cell_type": "code",
   "execution_count": 134,
   "metadata": {
    "colab": {
     "base_uri": "https://localhost:8080/"
    },
    "id": "a0B9HAF8TUSA",
    "outputId": "5c33ea9f-100c-4f83-a533-967a3f356879"
   },
   "outputs": [
    {
     "name": "stdout",
     "output_type": "stream",
     "text": [
      "['0'] ['0']\n"
     ]
    }
   ],
   "source": []
  },
  {
   "cell_type": "code",
   "execution_count": 123,
   "metadata": {
    "id": "HDcv2XviUJil"
   },
   "outputs": [],
   "source": []
  }
 ],
 "metadata": {
  "colab": {
   "collapsed_sections": [],
   "name": "smote.ipynb",
   "provenance": []
  },
  "kernelspec": {
   "display_name": "Python 3",
   "language": "python",
   "name": "python3"
  },
  "language_info": {
   "codemirror_mode": {
    "name": "ipython",
    "version": 3
   },
   "file_extension": ".py",
   "mimetype": "text/x-python",
   "name": "python",
   "nbconvert_exporter": "python",
   "pygments_lexer": "ipython3",
   "version": "3.8.8"
  },
  "varInspector": {
   "cols": {
    "lenName": 16,
    "lenType": 16,
    "lenVar": 40
   },
   "kernels_config": {
    "python": {
     "delete_cmd_postfix": "",
     "delete_cmd_prefix": "del ",
     "library": "var_list.py",
     "varRefreshCmd": "print(var_dic_list())"
    },
    "r": {
     "delete_cmd_postfix": ") ",
     "delete_cmd_prefix": "rm(",
     "library": "var_list.r",
     "varRefreshCmd": "cat(var_dic_list()) "
    }
   },
   "types_to_exclude": [
    "module",
    "function",
    "builtin_function_or_method",
    "instance",
    "_Feature"
   ],
   "window_display": false
  }
 },
 "nbformat": 4,
 "nbformat_minor": 1
}
